{
 "cells": [
  {
   "cell_type": "markdown",
   "id": "d900d200-4362-41cf-a8db-15f9f6123012",
   "metadata": {},
   "source": [
    "# Project 2 - Singapore Housing Data and Kaggle Challenge"
   ]
  },
  {
   "cell_type": "markdown",
   "id": "cabb24a3-cb26-4856-ae6f-1668f8136b5c",
   "metadata": {},
   "source": [
    "## Part 5 - Production Model and Insights"
   ]
  },
  {
   "cell_type": "code",
   "execution_count": 1,
   "id": "186fc786-2840-4a4c-a0ab-9252a6f367b6",
   "metadata": {},
   "outputs": [],
   "source": [
    "import pandas as pd\n",
    "import numpy as np\n",
    "import matplotlib.pyplot as plt\n",
    "import seaborn as sns\n",
    "import plotly.express as px\n",
    "from scipy import stats\n",
    "\n",
    "from sklearn.model_selection import train_test_split, cross_val_score\n",
    "from sklearn.linear_model import LinearRegression\n",
    "from sklearn.metrics import r2_score, mean_squared_error\n",
    "from sklearn.preprocessing import OneHotEncoder, StandardScaler\n",
    "from sklearn.linear_model import Ridge, Lasso, ElasticNet, LinearRegression, RidgeCV, LassoCV, ElasticNetCV\n",
    "from sklearn.compose import ColumnTransformer, make_column_transformer\n",
    "from sklearn.pipeline import Pipeline, make_pipeline\n",
    "\n",
    "import pickle"
   ]
  },
  {
   "cell_type": "markdown",
   "id": "c511ae24-f543-479c-a953-b24f34144841",
   "metadata": {},
   "source": [
    "We did not find evidence of overfitting in our Linear Regression. However, we will run two of the regularisation methods (RidgeCV and LassoCV), to see whether it can further reduce the model complexity in case of overfitting."
   ]
  },
  {
   "cell_type": "markdown",
   "id": "f28bbfd5-e1e5-45b0-9dc3-1731f2b551a6",
   "metadata": {},
   "source": [
    "## 1. Train-test-split"
   ]
  },
  {
   "cell_type": "code",
   "execution_count": 2,
   "id": "dcffcf8c-34fc-450b-9df6-293489321d6c",
   "metadata": {},
   "outputs": [],
   "source": [
    "# Importing data.\n",
    "df = pd.read_csv('../data/04_cleaned_df.csv')"
   ]
  },
  {
   "cell_type": "code",
   "execution_count": 3,
   "id": "e045c3a2-a7de-4aa2-baee-92569c02ab94",
   "metadata": {},
   "outputs": [],
   "source": [
    "# Defining numerical columns and categorical columns\n",
    "\n",
    "num_columns = ['floor_area_sqm', 'mid_storey', \n",
    "                'mall_nearest_distance', 'hawker_nearest_distance',\n",
    "                'mrt_nearest_distance',\n",
    "               'pri_sch_nearest_distance', \n",
    "               'sec_sch_nearest_dist',\n",
    "                'age_when_sold']\n",
    "\n",
    "cat_columns = ['full_flat_type', 'commercial', \n",
    "               'planning_area',  'mrt_interchange',  \n",
    "                'pri_sch_affiliation', 'pri_sch_name', 'sec_sch_name']"
   ]
  },
  {
   "cell_type": "code",
   "execution_count": 4,
   "id": "9d9b99f9-5625-4381-b470-76bdc9ae64a7",
   "metadata": {},
   "outputs": [],
   "source": [
    "X = df.drop(columns= 'resale_price')\n",
    "y = df['resale_price']"
   ]
  },
  {
   "cell_type": "code",
   "execution_count": 5,
   "id": "f52adbcb-6e9d-43a0-b6ac-27594bd2a370",
   "metadata": {},
   "outputs": [],
   "source": [
    "# Train test split\n",
    "X_train, X_test, y_train, y_test = train_test_split(X, y, random_state=123)"
   ]
  },
  {
   "cell_type": "code",
   "execution_count": 6,
   "id": "4036929f-0e52-4a3b-80d6-bcc559aaea5f",
   "metadata": {},
   "outputs": [],
   "source": [
    "# Instantiating OHE, SS and CT\n",
    "ohe = OneHotEncoder(min_frequency = 10)\n",
    "ss = StandardScaler()\n",
    "ct = make_column_transformer(\n",
    "    (ohe, cat_columns),\n",
    "    (ss, num_columns))\n"
   ]
  },
  {
   "cell_type": "markdown",
   "id": "c63926c7-e2a1-40d9-9105-d71116a550c8",
   "metadata": {},
   "source": [
    "## 2. Modelling"
   ]
  },
  {
   "cell_type": "markdown",
   "id": "c1c53a27-84bc-472b-948f-339be1ec2e68",
   "metadata": {},
   "source": [
    "### 2.1 Linear Regression"
   ]
  },
  {
   "cell_type": "code",
   "execution_count": 7,
   "id": "dd9f73f2-061d-45e3-b89c-5463c4ed6447",
   "metadata": {},
   "outputs": [],
   "source": [
    "# Instantiating Linear Regression\n",
    "lr = LinearRegression()\n",
    "# Creating a pipeline that starts off with the column transformer, followed by the LinearRegression\n",
    "lr_pipe = make_pipeline(ct, lr)"
   ]
  },
  {
   "cell_type": "code",
   "execution_count": 8,
   "id": "ff8d1eab-8c2e-4761-92d6-ddf67fe8151b",
   "metadata": {},
   "outputs": [
    {
     "data": {
      "text/html": [
       "<style>#sk-container-id-1 {color: black;background-color: white;}#sk-container-id-1 pre{padding: 0;}#sk-container-id-1 div.sk-toggleable {background-color: white;}#sk-container-id-1 label.sk-toggleable__label {cursor: pointer;display: block;width: 100%;margin-bottom: 0;padding: 0.3em;box-sizing: border-box;text-align: center;}#sk-container-id-1 label.sk-toggleable__label-arrow:before {content: \"▸\";float: left;margin-right: 0.25em;color: #696969;}#sk-container-id-1 label.sk-toggleable__label-arrow:hover:before {color: black;}#sk-container-id-1 div.sk-estimator:hover label.sk-toggleable__label-arrow:before {color: black;}#sk-container-id-1 div.sk-toggleable__content {max-height: 0;max-width: 0;overflow: hidden;text-align: left;background-color: #f0f8ff;}#sk-container-id-1 div.sk-toggleable__content pre {margin: 0.2em;color: black;border-radius: 0.25em;background-color: #f0f8ff;}#sk-container-id-1 input.sk-toggleable__control:checked~div.sk-toggleable__content {max-height: 200px;max-width: 100%;overflow: auto;}#sk-container-id-1 input.sk-toggleable__control:checked~label.sk-toggleable__label-arrow:before {content: \"▾\";}#sk-container-id-1 div.sk-estimator input.sk-toggleable__control:checked~label.sk-toggleable__label {background-color: #d4ebff;}#sk-container-id-1 div.sk-label input.sk-toggleable__control:checked~label.sk-toggleable__label {background-color: #d4ebff;}#sk-container-id-1 input.sk-hidden--visually {border: 0;clip: rect(1px 1px 1px 1px);clip: rect(1px, 1px, 1px, 1px);height: 1px;margin: -1px;overflow: hidden;padding: 0;position: absolute;width: 1px;}#sk-container-id-1 div.sk-estimator {font-family: monospace;background-color: #f0f8ff;border: 1px dotted black;border-radius: 0.25em;box-sizing: border-box;margin-bottom: 0.5em;}#sk-container-id-1 div.sk-estimator:hover {background-color: #d4ebff;}#sk-container-id-1 div.sk-parallel-item::after {content: \"\";width: 100%;border-bottom: 1px solid gray;flex-grow: 1;}#sk-container-id-1 div.sk-label:hover label.sk-toggleable__label {background-color: #d4ebff;}#sk-container-id-1 div.sk-serial::before {content: \"\";position: absolute;border-left: 1px solid gray;box-sizing: border-box;top: 0;bottom: 0;left: 50%;z-index: 0;}#sk-container-id-1 div.sk-serial {display: flex;flex-direction: column;align-items: center;background-color: white;padding-right: 0.2em;padding-left: 0.2em;position: relative;}#sk-container-id-1 div.sk-item {position: relative;z-index: 1;}#sk-container-id-1 div.sk-parallel {display: flex;align-items: stretch;justify-content: center;background-color: white;position: relative;}#sk-container-id-1 div.sk-item::before, #sk-container-id-1 div.sk-parallel-item::before {content: \"\";position: absolute;border-left: 1px solid gray;box-sizing: border-box;top: 0;bottom: 0;left: 50%;z-index: -1;}#sk-container-id-1 div.sk-parallel-item {display: flex;flex-direction: column;z-index: 1;position: relative;background-color: white;}#sk-container-id-1 div.sk-parallel-item:first-child::after {align-self: flex-end;width: 50%;}#sk-container-id-1 div.sk-parallel-item:last-child::after {align-self: flex-start;width: 50%;}#sk-container-id-1 div.sk-parallel-item:only-child::after {width: 0;}#sk-container-id-1 div.sk-dashed-wrapped {border: 1px dashed gray;margin: 0 0.4em 0.5em 0.4em;box-sizing: border-box;padding-bottom: 0.4em;background-color: white;}#sk-container-id-1 div.sk-label label {font-family: monospace;font-weight: bold;display: inline-block;line-height: 1.2em;}#sk-container-id-1 div.sk-label-container {text-align: center;}#sk-container-id-1 div.sk-container {/* jupyter's `normalize.less` sets `[hidden] { display: none; }` but bootstrap.min.css set `[hidden] { display: none !important; }` so we also need the `!important` here to be able to override the default hidden behavior on the sphinx rendered scikit-learn.org. See: https://github.com/scikit-learn/scikit-learn/issues/21755 */display: inline-block !important;position: relative;}#sk-container-id-1 div.sk-text-repr-fallback {display: none;}</style><div id=\"sk-container-id-1\" class=\"sk-top-container\"><div class=\"sk-text-repr-fallback\"><pre>Pipeline(steps=[(&#x27;columntransformer&#x27;,\n",
       "                 ColumnTransformer(transformers=[(&#x27;onehotencoder&#x27;,\n",
       "                                                  OneHotEncoder(min_frequency=10),\n",
       "                                                  [&#x27;full_flat_type&#x27;,\n",
       "                                                   &#x27;commercial&#x27;,\n",
       "                                                   &#x27;planning_area&#x27;,\n",
       "                                                   &#x27;mrt_interchange&#x27;,\n",
       "                                                   &#x27;pri_sch_affiliation&#x27;,\n",
       "                                                   &#x27;pri_sch_name&#x27;,\n",
       "                                                   &#x27;sec_sch_name&#x27;]),\n",
       "                                                 (&#x27;standardscaler&#x27;,\n",
       "                                                  StandardScaler(),\n",
       "                                                  [&#x27;floor_area_sqm&#x27;,\n",
       "                                                   &#x27;mid_storey&#x27;,\n",
       "                                                   &#x27;mall_nearest_distance&#x27;,\n",
       "                                                   &#x27;hawker_nearest_distance&#x27;,\n",
       "                                                   &#x27;mrt_nearest_distance&#x27;,\n",
       "                                                   &#x27;pri_sch_nearest_distance&#x27;,\n",
       "                                                   &#x27;sec_sch_nearest_dist&#x27;,\n",
       "                                                   &#x27;age_when_sold&#x27;])])),\n",
       "                (&#x27;linearregression&#x27;, LinearRegression())])</pre><b>In a Jupyter environment, please rerun this cell to show the HTML representation or trust the notebook. <br />On GitHub, the HTML representation is unable to render, please try loading this page with nbviewer.org.</b></div><div class=\"sk-container\" hidden><div class=\"sk-item sk-dashed-wrapped\"><div class=\"sk-label-container\"><div class=\"sk-label sk-toggleable\"><input class=\"sk-toggleable__control sk-hidden--visually\" id=\"sk-estimator-id-1\" type=\"checkbox\" ><label for=\"sk-estimator-id-1\" class=\"sk-toggleable__label sk-toggleable__label-arrow\">Pipeline</label><div class=\"sk-toggleable__content\"><pre>Pipeline(steps=[(&#x27;columntransformer&#x27;,\n",
       "                 ColumnTransformer(transformers=[(&#x27;onehotencoder&#x27;,\n",
       "                                                  OneHotEncoder(min_frequency=10),\n",
       "                                                  [&#x27;full_flat_type&#x27;,\n",
       "                                                   &#x27;commercial&#x27;,\n",
       "                                                   &#x27;planning_area&#x27;,\n",
       "                                                   &#x27;mrt_interchange&#x27;,\n",
       "                                                   &#x27;pri_sch_affiliation&#x27;,\n",
       "                                                   &#x27;pri_sch_name&#x27;,\n",
       "                                                   &#x27;sec_sch_name&#x27;]),\n",
       "                                                 (&#x27;standardscaler&#x27;,\n",
       "                                                  StandardScaler(),\n",
       "                                                  [&#x27;floor_area_sqm&#x27;,\n",
       "                                                   &#x27;mid_storey&#x27;,\n",
       "                                                   &#x27;mall_nearest_distance&#x27;,\n",
       "                                                   &#x27;hawker_nearest_distance&#x27;,\n",
       "                                                   &#x27;mrt_nearest_distance&#x27;,\n",
       "                                                   &#x27;pri_sch_nearest_distance&#x27;,\n",
       "                                                   &#x27;sec_sch_nearest_dist&#x27;,\n",
       "                                                   &#x27;age_when_sold&#x27;])])),\n",
       "                (&#x27;linearregression&#x27;, LinearRegression())])</pre></div></div></div><div class=\"sk-serial\"><div class=\"sk-item sk-dashed-wrapped\"><div class=\"sk-label-container\"><div class=\"sk-label sk-toggleable\"><input class=\"sk-toggleable__control sk-hidden--visually\" id=\"sk-estimator-id-2\" type=\"checkbox\" ><label for=\"sk-estimator-id-2\" class=\"sk-toggleable__label sk-toggleable__label-arrow\">columntransformer: ColumnTransformer</label><div class=\"sk-toggleable__content\"><pre>ColumnTransformer(transformers=[(&#x27;onehotencoder&#x27;,\n",
       "                                 OneHotEncoder(min_frequency=10),\n",
       "                                 [&#x27;full_flat_type&#x27;, &#x27;commercial&#x27;,\n",
       "                                  &#x27;planning_area&#x27;, &#x27;mrt_interchange&#x27;,\n",
       "                                  &#x27;pri_sch_affiliation&#x27;, &#x27;pri_sch_name&#x27;,\n",
       "                                  &#x27;sec_sch_name&#x27;]),\n",
       "                                (&#x27;standardscaler&#x27;, StandardScaler(),\n",
       "                                 [&#x27;floor_area_sqm&#x27;, &#x27;mid_storey&#x27;,\n",
       "                                  &#x27;mall_nearest_distance&#x27;,\n",
       "                                  &#x27;hawker_nearest_distance&#x27;,\n",
       "                                  &#x27;mrt_nearest_distance&#x27;,\n",
       "                                  &#x27;pri_sch_nearest_distance&#x27;,\n",
       "                                  &#x27;sec_sch_nearest_dist&#x27;, &#x27;age_when_sold&#x27;])])</pre></div></div></div><div class=\"sk-parallel\"><div class=\"sk-parallel-item\"><div class=\"sk-item\"><div class=\"sk-label-container\"><div class=\"sk-label sk-toggleable\"><input class=\"sk-toggleable__control sk-hidden--visually\" id=\"sk-estimator-id-3\" type=\"checkbox\" ><label for=\"sk-estimator-id-3\" class=\"sk-toggleable__label sk-toggleable__label-arrow\">onehotencoder</label><div class=\"sk-toggleable__content\"><pre>[&#x27;full_flat_type&#x27;, &#x27;commercial&#x27;, &#x27;planning_area&#x27;, &#x27;mrt_interchange&#x27;, &#x27;pri_sch_affiliation&#x27;, &#x27;pri_sch_name&#x27;, &#x27;sec_sch_name&#x27;]</pre></div></div></div><div class=\"sk-serial\"><div class=\"sk-item\"><div class=\"sk-estimator sk-toggleable\"><input class=\"sk-toggleable__control sk-hidden--visually\" id=\"sk-estimator-id-4\" type=\"checkbox\" ><label for=\"sk-estimator-id-4\" class=\"sk-toggleable__label sk-toggleable__label-arrow\">OneHotEncoder</label><div class=\"sk-toggleable__content\"><pre>OneHotEncoder(min_frequency=10)</pre></div></div></div></div></div></div><div class=\"sk-parallel-item\"><div class=\"sk-item\"><div class=\"sk-label-container\"><div class=\"sk-label sk-toggleable\"><input class=\"sk-toggleable__control sk-hidden--visually\" id=\"sk-estimator-id-5\" type=\"checkbox\" ><label for=\"sk-estimator-id-5\" class=\"sk-toggleable__label sk-toggleable__label-arrow\">standardscaler</label><div class=\"sk-toggleable__content\"><pre>[&#x27;floor_area_sqm&#x27;, &#x27;mid_storey&#x27;, &#x27;mall_nearest_distance&#x27;, &#x27;hawker_nearest_distance&#x27;, &#x27;mrt_nearest_distance&#x27;, &#x27;pri_sch_nearest_distance&#x27;, &#x27;sec_sch_nearest_dist&#x27;, &#x27;age_when_sold&#x27;]</pre></div></div></div><div class=\"sk-serial\"><div class=\"sk-item\"><div class=\"sk-estimator sk-toggleable\"><input class=\"sk-toggleable__control sk-hidden--visually\" id=\"sk-estimator-id-6\" type=\"checkbox\" ><label for=\"sk-estimator-id-6\" class=\"sk-toggleable__label sk-toggleable__label-arrow\">StandardScaler</label><div class=\"sk-toggleable__content\"><pre>StandardScaler()</pre></div></div></div></div></div></div></div></div><div class=\"sk-item\"><div class=\"sk-estimator sk-toggleable\"><input class=\"sk-toggleable__control sk-hidden--visually\" id=\"sk-estimator-id-7\" type=\"checkbox\" ><label for=\"sk-estimator-id-7\" class=\"sk-toggleable__label sk-toggleable__label-arrow\">LinearRegression</label><div class=\"sk-toggleable__content\"><pre>LinearRegression()</pre></div></div></div></div></div></div></div>"
      ],
      "text/plain": [
       "Pipeline(steps=[('columntransformer',\n",
       "                 ColumnTransformer(transformers=[('onehotencoder',\n",
       "                                                  OneHotEncoder(min_frequency=10),\n",
       "                                                  ['full_flat_type',\n",
       "                                                   'commercial',\n",
       "                                                   'planning_area',\n",
       "                                                   'mrt_interchange',\n",
       "                                                   'pri_sch_affiliation',\n",
       "                                                   'pri_sch_name',\n",
       "                                                   'sec_sch_name']),\n",
       "                                                 ('standardscaler',\n",
       "                                                  StandardScaler(),\n",
       "                                                  ['floor_area_sqm',\n",
       "                                                   'mid_storey',\n",
       "                                                   'mall_nearest_distance',\n",
       "                                                   'hawker_nearest_distance',\n",
       "                                                   'mrt_nearest_distance',\n",
       "                                                   'pri_sch_nearest_distance',\n",
       "                                                   'sec_sch_nearest_dist',\n",
       "                                                   'age_when_sold'])])),\n",
       "                ('linearregression', LinearRegression())])"
      ]
     },
     "execution_count": 8,
     "metadata": {},
     "output_type": "execute_result"
    }
   ],
   "source": [
    "lr_pipe"
   ]
  },
  {
   "cell_type": "code",
   "execution_count": 9,
   "id": "beec082b-fb7c-47cd-a535-02b9b2e8ecd7",
   "metadata": {},
   "outputs": [
    {
     "name": "stdout",
     "output_type": "stream",
     "text": [
      "The train score is: 0.9094461971305231\n",
      "The test score is: 0.9085714834872526\n",
      "The root mean squared error is 43304.097016923675.\n"
     ]
    }
   ],
   "source": [
    "lr_pipe.fit(X_train, y_train)\n",
    "# Linear Regression Scores\n",
    "print(f\"The train score is: {lr_pipe.score(X_train, y_train)}\")\n",
    "print(f\"The test score is: {lr_pipe.score(X_test, y_test)}\")\n",
    "\n",
    "y_test_preds_lr = lr_pipe.predict(X_test)\n",
    "\n",
    "# Linear Regression Root Mean Squared Error\n",
    "lr_rmse = np.sqrt(mean_squared_error(y_test, y_test_preds_lr))\n",
    "print(f'The root mean squared error is {lr_rmse}.')"
   ]
  },
  {
   "cell_type": "markdown",
   "id": "c998d360-192d-4628-9264-7eb112d779c6",
   "metadata": {},
   "source": [
    "This is a repeat of the previous notebook. Now, let us see whether the score and RMSE can be improved by RidgeCV and LassoCV."
   ]
  },
  {
   "cell_type": "markdown",
   "id": "d67d0e22-aefb-4e24-8efc-baffbfec30f3",
   "metadata": {},
   "source": [
    "### 2.2 RidgeCV"
   ]
  },
  {
   "cell_type": "markdown",
   "id": "d381a7a4-3730-48d5-bd1f-f0ee5fc63d65",
   "metadata": {},
   "source": [
    "The Ridge Regression aims to reduce overfitting and increase the generalisation ability of the model. This is by adding a penalty term to the cost function, and eventually reducing the coefficients compared to linear regression."
   ]
  },
  {
   "cell_type": "code",
   "execution_count": 10,
   "id": "e39b822e-be17-4a82-82c5-95ec34244e23",
   "metadata": {},
   "outputs": [],
   "source": [
    "# Setting alpha range\n",
    "r_alphas = np.logspace(-2, 1, 100)\n",
    "# Instantiating Linear Regression\n",
    "ridge = RidgeCV(alphas=r_alphas, scoring='r2', cv=5)\n",
    "# Creating a pipeline that starts off with the column transformer, followed by the RidgeCV\n",
    "ridge_pipe = make_pipeline(ct, ridge)"
   ]
  },
  {
   "cell_type": "code",
   "execution_count": 11,
   "id": "c7752372-59e7-4524-aeb8-3d4ef21534ac",
   "metadata": {},
   "outputs": [
    {
     "data": {
      "text/html": [
       "<style>#sk-container-id-2 {color: black;background-color: white;}#sk-container-id-2 pre{padding: 0;}#sk-container-id-2 div.sk-toggleable {background-color: white;}#sk-container-id-2 label.sk-toggleable__label {cursor: pointer;display: block;width: 100%;margin-bottom: 0;padding: 0.3em;box-sizing: border-box;text-align: center;}#sk-container-id-2 label.sk-toggleable__label-arrow:before {content: \"▸\";float: left;margin-right: 0.25em;color: #696969;}#sk-container-id-2 label.sk-toggleable__label-arrow:hover:before {color: black;}#sk-container-id-2 div.sk-estimator:hover label.sk-toggleable__label-arrow:before {color: black;}#sk-container-id-2 div.sk-toggleable__content {max-height: 0;max-width: 0;overflow: hidden;text-align: left;background-color: #f0f8ff;}#sk-container-id-2 div.sk-toggleable__content pre {margin: 0.2em;color: black;border-radius: 0.25em;background-color: #f0f8ff;}#sk-container-id-2 input.sk-toggleable__control:checked~div.sk-toggleable__content {max-height: 200px;max-width: 100%;overflow: auto;}#sk-container-id-2 input.sk-toggleable__control:checked~label.sk-toggleable__label-arrow:before {content: \"▾\";}#sk-container-id-2 div.sk-estimator input.sk-toggleable__control:checked~label.sk-toggleable__label {background-color: #d4ebff;}#sk-container-id-2 div.sk-label input.sk-toggleable__control:checked~label.sk-toggleable__label {background-color: #d4ebff;}#sk-container-id-2 input.sk-hidden--visually {border: 0;clip: rect(1px 1px 1px 1px);clip: rect(1px, 1px, 1px, 1px);height: 1px;margin: -1px;overflow: hidden;padding: 0;position: absolute;width: 1px;}#sk-container-id-2 div.sk-estimator {font-family: monospace;background-color: #f0f8ff;border: 1px dotted black;border-radius: 0.25em;box-sizing: border-box;margin-bottom: 0.5em;}#sk-container-id-2 div.sk-estimator:hover {background-color: #d4ebff;}#sk-container-id-2 div.sk-parallel-item::after {content: \"\";width: 100%;border-bottom: 1px solid gray;flex-grow: 1;}#sk-container-id-2 div.sk-label:hover label.sk-toggleable__label {background-color: #d4ebff;}#sk-container-id-2 div.sk-serial::before {content: \"\";position: absolute;border-left: 1px solid gray;box-sizing: border-box;top: 0;bottom: 0;left: 50%;z-index: 0;}#sk-container-id-2 div.sk-serial {display: flex;flex-direction: column;align-items: center;background-color: white;padding-right: 0.2em;padding-left: 0.2em;position: relative;}#sk-container-id-2 div.sk-item {position: relative;z-index: 1;}#sk-container-id-2 div.sk-parallel {display: flex;align-items: stretch;justify-content: center;background-color: white;position: relative;}#sk-container-id-2 div.sk-item::before, #sk-container-id-2 div.sk-parallel-item::before {content: \"\";position: absolute;border-left: 1px solid gray;box-sizing: border-box;top: 0;bottom: 0;left: 50%;z-index: -1;}#sk-container-id-2 div.sk-parallel-item {display: flex;flex-direction: column;z-index: 1;position: relative;background-color: white;}#sk-container-id-2 div.sk-parallel-item:first-child::after {align-self: flex-end;width: 50%;}#sk-container-id-2 div.sk-parallel-item:last-child::after {align-self: flex-start;width: 50%;}#sk-container-id-2 div.sk-parallel-item:only-child::after {width: 0;}#sk-container-id-2 div.sk-dashed-wrapped {border: 1px dashed gray;margin: 0 0.4em 0.5em 0.4em;box-sizing: border-box;padding-bottom: 0.4em;background-color: white;}#sk-container-id-2 div.sk-label label {font-family: monospace;font-weight: bold;display: inline-block;line-height: 1.2em;}#sk-container-id-2 div.sk-label-container {text-align: center;}#sk-container-id-2 div.sk-container {/* jupyter's `normalize.less` sets `[hidden] { display: none; }` but bootstrap.min.css set `[hidden] { display: none !important; }` so we also need the `!important` here to be able to override the default hidden behavior on the sphinx rendered scikit-learn.org. See: https://github.com/scikit-learn/scikit-learn/issues/21755 */display: inline-block !important;position: relative;}#sk-container-id-2 div.sk-text-repr-fallback {display: none;}</style><div id=\"sk-container-id-2\" class=\"sk-top-container\"><div class=\"sk-text-repr-fallback\"><pre>Pipeline(steps=[(&#x27;columntransformer&#x27;,\n",
       "                 ColumnTransformer(transformers=[(&#x27;onehotencoder&#x27;,\n",
       "                                                  OneHotEncoder(min_frequency=10),\n",
       "                                                  [&#x27;full_flat_type&#x27;,\n",
       "                                                   &#x27;commercial&#x27;,\n",
       "                                                   &#x27;planning_area&#x27;,\n",
       "                                                   &#x27;mrt_interchange&#x27;,\n",
       "                                                   &#x27;pri_sch_affiliation&#x27;,\n",
       "                                                   &#x27;pri_sch_name&#x27;,\n",
       "                                                   &#x27;sec_sch_name&#x27;]),\n",
       "                                                 (&#x27;standardscaler&#x27;,\n",
       "                                                  StandardScaler(),\n",
       "                                                  [&#x27;floor_area_sqm&#x27;,\n",
       "                                                   &#x27;mid_storey&#x27;,\n",
       "                                                   &#x27;mall_nearest_distance&#x27;,\n",
       "                                                   &#x27;hawker_nearest_distanc...\n",
       "        0.93260335,  1.        ,  1.07226722,  1.149757  ,  1.23284674,\n",
       "        1.32194115,  1.41747416,  1.51991108,  1.62975083,  1.7475284 ,\n",
       "        1.87381742,  2.009233  ,  2.15443469,  2.3101297 ,  2.47707636,\n",
       "        2.65608778,  2.84803587,  3.05385551,  3.27454916,  3.51119173,\n",
       "        3.76493581,  4.03701726,  4.32876128,  4.64158883,  4.97702356,\n",
       "        5.33669923,  5.72236766,  6.13590727,  6.57933225,  7.05480231,\n",
       "        7.56463328,  8.11130831,  8.69749003,  9.32603347, 10.        ]),\n",
       "                         cv=5, scoring=&#x27;r2&#x27;))])</pre><b>In a Jupyter environment, please rerun this cell to show the HTML representation or trust the notebook. <br />On GitHub, the HTML representation is unable to render, please try loading this page with nbviewer.org.</b></div><div class=\"sk-container\" hidden><div class=\"sk-item sk-dashed-wrapped\"><div class=\"sk-label-container\"><div class=\"sk-label sk-toggleable\"><input class=\"sk-toggleable__control sk-hidden--visually\" id=\"sk-estimator-id-8\" type=\"checkbox\" ><label for=\"sk-estimator-id-8\" class=\"sk-toggleable__label sk-toggleable__label-arrow\">Pipeline</label><div class=\"sk-toggleable__content\"><pre>Pipeline(steps=[(&#x27;columntransformer&#x27;,\n",
       "                 ColumnTransformer(transformers=[(&#x27;onehotencoder&#x27;,\n",
       "                                                  OneHotEncoder(min_frequency=10),\n",
       "                                                  [&#x27;full_flat_type&#x27;,\n",
       "                                                   &#x27;commercial&#x27;,\n",
       "                                                   &#x27;planning_area&#x27;,\n",
       "                                                   &#x27;mrt_interchange&#x27;,\n",
       "                                                   &#x27;pri_sch_affiliation&#x27;,\n",
       "                                                   &#x27;pri_sch_name&#x27;,\n",
       "                                                   &#x27;sec_sch_name&#x27;]),\n",
       "                                                 (&#x27;standardscaler&#x27;,\n",
       "                                                  StandardScaler(),\n",
       "                                                  [&#x27;floor_area_sqm&#x27;,\n",
       "                                                   &#x27;mid_storey&#x27;,\n",
       "                                                   &#x27;mall_nearest_distance&#x27;,\n",
       "                                                   &#x27;hawker_nearest_distanc...\n",
       "        0.93260335,  1.        ,  1.07226722,  1.149757  ,  1.23284674,\n",
       "        1.32194115,  1.41747416,  1.51991108,  1.62975083,  1.7475284 ,\n",
       "        1.87381742,  2.009233  ,  2.15443469,  2.3101297 ,  2.47707636,\n",
       "        2.65608778,  2.84803587,  3.05385551,  3.27454916,  3.51119173,\n",
       "        3.76493581,  4.03701726,  4.32876128,  4.64158883,  4.97702356,\n",
       "        5.33669923,  5.72236766,  6.13590727,  6.57933225,  7.05480231,\n",
       "        7.56463328,  8.11130831,  8.69749003,  9.32603347, 10.        ]),\n",
       "                         cv=5, scoring=&#x27;r2&#x27;))])</pre></div></div></div><div class=\"sk-serial\"><div class=\"sk-item sk-dashed-wrapped\"><div class=\"sk-label-container\"><div class=\"sk-label sk-toggleable\"><input class=\"sk-toggleable__control sk-hidden--visually\" id=\"sk-estimator-id-9\" type=\"checkbox\" ><label for=\"sk-estimator-id-9\" class=\"sk-toggleable__label sk-toggleable__label-arrow\">columntransformer: ColumnTransformer</label><div class=\"sk-toggleable__content\"><pre>ColumnTransformer(transformers=[(&#x27;onehotencoder&#x27;,\n",
       "                                 OneHotEncoder(min_frequency=10),\n",
       "                                 [&#x27;full_flat_type&#x27;, &#x27;commercial&#x27;,\n",
       "                                  &#x27;planning_area&#x27;, &#x27;mrt_interchange&#x27;,\n",
       "                                  &#x27;pri_sch_affiliation&#x27;, &#x27;pri_sch_name&#x27;,\n",
       "                                  &#x27;sec_sch_name&#x27;]),\n",
       "                                (&#x27;standardscaler&#x27;, StandardScaler(),\n",
       "                                 [&#x27;floor_area_sqm&#x27;, &#x27;mid_storey&#x27;,\n",
       "                                  &#x27;mall_nearest_distance&#x27;,\n",
       "                                  &#x27;hawker_nearest_distance&#x27;,\n",
       "                                  &#x27;mrt_nearest_distance&#x27;,\n",
       "                                  &#x27;pri_sch_nearest_distance&#x27;,\n",
       "                                  &#x27;sec_sch_nearest_dist&#x27;, &#x27;age_when_sold&#x27;])])</pre></div></div></div><div class=\"sk-parallel\"><div class=\"sk-parallel-item\"><div class=\"sk-item\"><div class=\"sk-label-container\"><div class=\"sk-label sk-toggleable\"><input class=\"sk-toggleable__control sk-hidden--visually\" id=\"sk-estimator-id-10\" type=\"checkbox\" ><label for=\"sk-estimator-id-10\" class=\"sk-toggleable__label sk-toggleable__label-arrow\">onehotencoder</label><div class=\"sk-toggleable__content\"><pre>[&#x27;full_flat_type&#x27;, &#x27;commercial&#x27;, &#x27;planning_area&#x27;, &#x27;mrt_interchange&#x27;, &#x27;pri_sch_affiliation&#x27;, &#x27;pri_sch_name&#x27;, &#x27;sec_sch_name&#x27;]</pre></div></div></div><div class=\"sk-serial\"><div class=\"sk-item\"><div class=\"sk-estimator sk-toggleable\"><input class=\"sk-toggleable__control sk-hidden--visually\" id=\"sk-estimator-id-11\" type=\"checkbox\" ><label for=\"sk-estimator-id-11\" class=\"sk-toggleable__label sk-toggleable__label-arrow\">OneHotEncoder</label><div class=\"sk-toggleable__content\"><pre>OneHotEncoder(min_frequency=10)</pre></div></div></div></div></div></div><div class=\"sk-parallel-item\"><div class=\"sk-item\"><div class=\"sk-label-container\"><div class=\"sk-label sk-toggleable\"><input class=\"sk-toggleable__control sk-hidden--visually\" id=\"sk-estimator-id-12\" type=\"checkbox\" ><label for=\"sk-estimator-id-12\" class=\"sk-toggleable__label sk-toggleable__label-arrow\">standardscaler</label><div class=\"sk-toggleable__content\"><pre>[&#x27;floor_area_sqm&#x27;, &#x27;mid_storey&#x27;, &#x27;mall_nearest_distance&#x27;, &#x27;hawker_nearest_distance&#x27;, &#x27;mrt_nearest_distance&#x27;, &#x27;pri_sch_nearest_distance&#x27;, &#x27;sec_sch_nearest_dist&#x27;, &#x27;age_when_sold&#x27;]</pre></div></div></div><div class=\"sk-serial\"><div class=\"sk-item\"><div class=\"sk-estimator sk-toggleable\"><input class=\"sk-toggleable__control sk-hidden--visually\" id=\"sk-estimator-id-13\" type=\"checkbox\" ><label for=\"sk-estimator-id-13\" class=\"sk-toggleable__label sk-toggleable__label-arrow\">StandardScaler</label><div class=\"sk-toggleable__content\"><pre>StandardScaler()</pre></div></div></div></div></div></div></div></div><div class=\"sk-item\"><div class=\"sk-estimator sk-toggleable\"><input class=\"sk-toggleable__control sk-hidden--visually\" id=\"sk-estimator-id-14\" type=\"checkbox\" ><label for=\"sk-estimator-id-14\" class=\"sk-toggleable__label sk-toggleable__label-arrow\">RidgeCV</label><div class=\"sk-toggleable__content\"><pre>RidgeCV(alphas=array([ 0.01      ,  0.01072267,  0.01149757,  0.01232847,  0.01321941,\n",
       "        0.01417474,  0.01519911,  0.01629751,  0.01747528,  0.01873817,\n",
       "        0.02009233,  0.02154435,  0.0231013 ,  0.02477076,  0.02656088,\n",
       "        0.02848036,  0.03053856,  0.03274549,  0.03511192,  0.03764936,\n",
       "        0.04037017,  0.04328761,  0.04641589,  0.04977024,  0.05336699,\n",
       "        0.05722368,  0.06135907,  0.06579332,  0.07054802,  0.07564633,\n",
       "        0.081...\n",
       "        0.93260335,  1.        ,  1.07226722,  1.149757  ,  1.23284674,\n",
       "        1.32194115,  1.41747416,  1.51991108,  1.62975083,  1.7475284 ,\n",
       "        1.87381742,  2.009233  ,  2.15443469,  2.3101297 ,  2.47707636,\n",
       "        2.65608778,  2.84803587,  3.05385551,  3.27454916,  3.51119173,\n",
       "        3.76493581,  4.03701726,  4.32876128,  4.64158883,  4.97702356,\n",
       "        5.33669923,  5.72236766,  6.13590727,  6.57933225,  7.05480231,\n",
       "        7.56463328,  8.11130831,  8.69749003,  9.32603347, 10.        ]),\n",
       "        cv=5, scoring=&#x27;r2&#x27;)</pre></div></div></div></div></div></div></div>"
      ],
      "text/plain": [
       "Pipeline(steps=[('columntransformer',\n",
       "                 ColumnTransformer(transformers=[('onehotencoder',\n",
       "                                                  OneHotEncoder(min_frequency=10),\n",
       "                                                  ['full_flat_type',\n",
       "                                                   'commercial',\n",
       "                                                   'planning_area',\n",
       "                                                   'mrt_interchange',\n",
       "                                                   'pri_sch_affiliation',\n",
       "                                                   'pri_sch_name',\n",
       "                                                   'sec_sch_name']),\n",
       "                                                 ('standardscaler',\n",
       "                                                  StandardScaler(),\n",
       "                                                  ['floor_area_sqm',\n",
       "                                                   'mid_storey',\n",
       "                                                   'mall_nearest_distance',\n",
       "                                                   'hawker_nearest_distanc...\n",
       "        0.93260335,  1.        ,  1.07226722,  1.149757  ,  1.23284674,\n",
       "        1.32194115,  1.41747416,  1.51991108,  1.62975083,  1.7475284 ,\n",
       "        1.87381742,  2.009233  ,  2.15443469,  2.3101297 ,  2.47707636,\n",
       "        2.65608778,  2.84803587,  3.05385551,  3.27454916,  3.51119173,\n",
       "        3.76493581,  4.03701726,  4.32876128,  4.64158883,  4.97702356,\n",
       "        5.33669923,  5.72236766,  6.13590727,  6.57933225,  7.05480231,\n",
       "        7.56463328,  8.11130831,  8.69749003,  9.32603347, 10.        ]),\n",
       "                         cv=5, scoring='r2'))])"
      ]
     },
     "execution_count": 11,
     "metadata": {},
     "output_type": "execute_result"
    }
   ],
   "source": [
    "ridge_pipe"
   ]
  },
  {
   "cell_type": "code",
   "execution_count": 12,
   "id": "9fe25d74-a34c-4934-b44e-c33abfa9d308",
   "metadata": {},
   "outputs": [
    {
     "name": "stdout",
     "output_type": "stream",
     "text": [
      "The train score is: 0.909418642603309\n",
      "The test score is: 0.908508229789419\n",
      "The root mean squared error is 43319.07413114957.\n"
     ]
    }
   ],
   "source": [
    "ridge_pipe.fit(X_train, y_train)\n",
    "print(f\"The train score is: {ridge_pipe.score(X_train, y_train)}\")\n",
    "print(f\"The test score is: {ridge_pipe.score(X_test, y_test)}\")\n",
    "\n",
    "# RidgeCV Scores\n",
    "y_test_preds_ridge = ridge_pipe.predict(X_test)\n",
    "\n",
    "# RidgeCV Root Mean Squared Error\n",
    "ridge_rmse = np.sqrt(mean_squared_error(y_test, y_test_preds_ridge))\n",
    "print(f'The root mean squared error is {ridge_rmse}.')"
   ]
  },
  {
   "cell_type": "code",
   "execution_count": 13,
   "id": "ad32d1f5-8fb5-4979-94d5-eb26e8f6f553",
   "metadata": {},
   "outputs": [
    {
     "data": {
      "text/plain": [
       "0.023101297000831605"
      ]
     },
     "execution_count": 13,
     "metadata": {},
     "output_type": "execute_result"
    }
   ],
   "source": [
    "ridge.alpha_"
   ]
  },
  {
   "cell_type": "markdown",
   "id": "37945937-fd6c-400e-8442-70b9526e17d3",
   "metadata": {},
   "source": [
    "There is very little difference between the RidgeCV score and Linear Regression score in terms of the R2 and RMSE. Let us see the LassoCV score."
   ]
  },
  {
   "cell_type": "markdown",
   "id": "a10a56c6-a7b8-411a-97cf-068e8902e9b2",
   "metadata": {},
   "source": [
    "### 2.3 LassoCV"
   ]
  },
  {
   "cell_type": "markdown",
   "id": "48f29f4a-4fd4-455d-b760-62cc26036220",
   "metadata": {},
   "source": [
    "Similar to the Ridge regression, the Lasso regression aims to reduce overfitting and increase the generalisation ability of the model. The main difference between the two is the type of penalty they impose, causeing different effects on the coefficient estimates."
   ]
  },
  {
   "cell_type": "code",
   "execution_count": 14,
   "id": "4510d108-f494-4ee9-96dc-9f0882c3638a",
   "metadata": {},
   "outputs": [],
   "source": [
    "# Setting alpha range\n",
    "l_alphas = np.logspace(-20, 5, 25)\n",
    "#l_alphas = [0.00001, 0.00005, 0.0001, 0.0005, 0.001]\n",
    "# Instantiating Linear Regression\n",
    "lasso = LassoCV(alphas=l_alphas, cv=5, max_iter=10000, tol=1e-1)\n",
    "# Creating a pipeline that starts off with the column transformer, followed by the LassoCV\n",
    "lasso_pipe = make_pipeline(ct, lasso)"
   ]
  },
  {
   "cell_type": "code",
   "execution_count": 15,
   "id": "5578f245-e495-4bda-b9b3-2a731f95e2c2",
   "metadata": {},
   "outputs": [
    {
     "data": {
      "text/html": [
       "<style>#sk-container-id-3 {color: black;background-color: white;}#sk-container-id-3 pre{padding: 0;}#sk-container-id-3 div.sk-toggleable {background-color: white;}#sk-container-id-3 label.sk-toggleable__label {cursor: pointer;display: block;width: 100%;margin-bottom: 0;padding: 0.3em;box-sizing: border-box;text-align: center;}#sk-container-id-3 label.sk-toggleable__label-arrow:before {content: \"▸\";float: left;margin-right: 0.25em;color: #696969;}#sk-container-id-3 label.sk-toggleable__label-arrow:hover:before {color: black;}#sk-container-id-3 div.sk-estimator:hover label.sk-toggleable__label-arrow:before {color: black;}#sk-container-id-3 div.sk-toggleable__content {max-height: 0;max-width: 0;overflow: hidden;text-align: left;background-color: #f0f8ff;}#sk-container-id-3 div.sk-toggleable__content pre {margin: 0.2em;color: black;border-radius: 0.25em;background-color: #f0f8ff;}#sk-container-id-3 input.sk-toggleable__control:checked~div.sk-toggleable__content {max-height: 200px;max-width: 100%;overflow: auto;}#sk-container-id-3 input.sk-toggleable__control:checked~label.sk-toggleable__label-arrow:before {content: \"▾\";}#sk-container-id-3 div.sk-estimator input.sk-toggleable__control:checked~label.sk-toggleable__label {background-color: #d4ebff;}#sk-container-id-3 div.sk-label input.sk-toggleable__control:checked~label.sk-toggleable__label {background-color: #d4ebff;}#sk-container-id-3 input.sk-hidden--visually {border: 0;clip: rect(1px 1px 1px 1px);clip: rect(1px, 1px, 1px, 1px);height: 1px;margin: -1px;overflow: hidden;padding: 0;position: absolute;width: 1px;}#sk-container-id-3 div.sk-estimator {font-family: monospace;background-color: #f0f8ff;border: 1px dotted black;border-radius: 0.25em;box-sizing: border-box;margin-bottom: 0.5em;}#sk-container-id-3 div.sk-estimator:hover {background-color: #d4ebff;}#sk-container-id-3 div.sk-parallel-item::after {content: \"\";width: 100%;border-bottom: 1px solid gray;flex-grow: 1;}#sk-container-id-3 div.sk-label:hover label.sk-toggleable__label {background-color: #d4ebff;}#sk-container-id-3 div.sk-serial::before {content: \"\";position: absolute;border-left: 1px solid gray;box-sizing: border-box;top: 0;bottom: 0;left: 50%;z-index: 0;}#sk-container-id-3 div.sk-serial {display: flex;flex-direction: column;align-items: center;background-color: white;padding-right: 0.2em;padding-left: 0.2em;position: relative;}#sk-container-id-3 div.sk-item {position: relative;z-index: 1;}#sk-container-id-3 div.sk-parallel {display: flex;align-items: stretch;justify-content: center;background-color: white;position: relative;}#sk-container-id-3 div.sk-item::before, #sk-container-id-3 div.sk-parallel-item::before {content: \"\";position: absolute;border-left: 1px solid gray;box-sizing: border-box;top: 0;bottom: 0;left: 50%;z-index: -1;}#sk-container-id-3 div.sk-parallel-item {display: flex;flex-direction: column;z-index: 1;position: relative;background-color: white;}#sk-container-id-3 div.sk-parallel-item:first-child::after {align-self: flex-end;width: 50%;}#sk-container-id-3 div.sk-parallel-item:last-child::after {align-self: flex-start;width: 50%;}#sk-container-id-3 div.sk-parallel-item:only-child::after {width: 0;}#sk-container-id-3 div.sk-dashed-wrapped {border: 1px dashed gray;margin: 0 0.4em 0.5em 0.4em;box-sizing: border-box;padding-bottom: 0.4em;background-color: white;}#sk-container-id-3 div.sk-label label {font-family: monospace;font-weight: bold;display: inline-block;line-height: 1.2em;}#sk-container-id-3 div.sk-label-container {text-align: center;}#sk-container-id-3 div.sk-container {/* jupyter's `normalize.less` sets `[hidden] { display: none; }` but bootstrap.min.css set `[hidden] { display: none !important; }` so we also need the `!important` here to be able to override the default hidden behavior on the sphinx rendered scikit-learn.org. See: https://github.com/scikit-learn/scikit-learn/issues/21755 */display: inline-block !important;position: relative;}#sk-container-id-3 div.sk-text-repr-fallback {display: none;}</style><div id=\"sk-container-id-3\" class=\"sk-top-container\"><div class=\"sk-text-repr-fallback\"><pre>Pipeline(steps=[(&#x27;columntransformer&#x27;,\n",
       "                 ColumnTransformer(transformers=[(&#x27;onehotencoder&#x27;,\n",
       "                                                  OneHotEncoder(min_frequency=10),\n",
       "                                                  [&#x27;full_flat_type&#x27;,\n",
       "                                                   &#x27;commercial&#x27;,\n",
       "                                                   &#x27;planning_area&#x27;,\n",
       "                                                   &#x27;mrt_interchange&#x27;,\n",
       "                                                   &#x27;pri_sch_affiliation&#x27;,\n",
       "                                                   &#x27;pri_sch_name&#x27;,\n",
       "                                                   &#x27;sec_sch_name&#x27;]),\n",
       "                                                 (&#x27;standardscaler&#x27;,\n",
       "                                                  StandardScaler(),\n",
       "                                                  [&#x27;floor_area_sqm&#x27;,\n",
       "                                                   &#x27;mid_storey&#x27;,\n",
       "                                                   &#x27;mall_nearest_distance&#x27;,\n",
       "                                                   &#x27;hawker_nearest_distanc...\n",
       "                 LassoCV(alphas=array([1.00000000e-20, 1.10069417e-19, 1.21152766e-18, 1.33352143e-17,\n",
       "       1.46779927e-16, 1.61559810e-15, 1.77827941e-14, 1.95734178e-13,\n",
       "       2.15443469e-12, 2.37137371e-11, 2.61015722e-10, 2.87298483e-09,\n",
       "       3.16227766e-08, 3.48070059e-07, 3.83118685e-06, 4.21696503e-05,\n",
       "       4.64158883e-04, 5.10896977e-03, 5.62341325e-02, 6.18965819e-01,\n",
       "       6.81292069e+00, 7.49894209e+01, 8.25404185e+02, 9.08517576e+03,\n",
       "       1.00000000e+05]),\n",
       "                         cv=5, max_iter=10000, tol=0.1))])</pre><b>In a Jupyter environment, please rerun this cell to show the HTML representation or trust the notebook. <br />On GitHub, the HTML representation is unable to render, please try loading this page with nbviewer.org.</b></div><div class=\"sk-container\" hidden><div class=\"sk-item sk-dashed-wrapped\"><div class=\"sk-label-container\"><div class=\"sk-label sk-toggleable\"><input class=\"sk-toggleable__control sk-hidden--visually\" id=\"sk-estimator-id-15\" type=\"checkbox\" ><label for=\"sk-estimator-id-15\" class=\"sk-toggleable__label sk-toggleable__label-arrow\">Pipeline</label><div class=\"sk-toggleable__content\"><pre>Pipeline(steps=[(&#x27;columntransformer&#x27;,\n",
       "                 ColumnTransformer(transformers=[(&#x27;onehotencoder&#x27;,\n",
       "                                                  OneHotEncoder(min_frequency=10),\n",
       "                                                  [&#x27;full_flat_type&#x27;,\n",
       "                                                   &#x27;commercial&#x27;,\n",
       "                                                   &#x27;planning_area&#x27;,\n",
       "                                                   &#x27;mrt_interchange&#x27;,\n",
       "                                                   &#x27;pri_sch_affiliation&#x27;,\n",
       "                                                   &#x27;pri_sch_name&#x27;,\n",
       "                                                   &#x27;sec_sch_name&#x27;]),\n",
       "                                                 (&#x27;standardscaler&#x27;,\n",
       "                                                  StandardScaler(),\n",
       "                                                  [&#x27;floor_area_sqm&#x27;,\n",
       "                                                   &#x27;mid_storey&#x27;,\n",
       "                                                   &#x27;mall_nearest_distance&#x27;,\n",
       "                                                   &#x27;hawker_nearest_distanc...\n",
       "                 LassoCV(alphas=array([1.00000000e-20, 1.10069417e-19, 1.21152766e-18, 1.33352143e-17,\n",
       "       1.46779927e-16, 1.61559810e-15, 1.77827941e-14, 1.95734178e-13,\n",
       "       2.15443469e-12, 2.37137371e-11, 2.61015722e-10, 2.87298483e-09,\n",
       "       3.16227766e-08, 3.48070059e-07, 3.83118685e-06, 4.21696503e-05,\n",
       "       4.64158883e-04, 5.10896977e-03, 5.62341325e-02, 6.18965819e-01,\n",
       "       6.81292069e+00, 7.49894209e+01, 8.25404185e+02, 9.08517576e+03,\n",
       "       1.00000000e+05]),\n",
       "                         cv=5, max_iter=10000, tol=0.1))])</pre></div></div></div><div class=\"sk-serial\"><div class=\"sk-item sk-dashed-wrapped\"><div class=\"sk-label-container\"><div class=\"sk-label sk-toggleable\"><input class=\"sk-toggleable__control sk-hidden--visually\" id=\"sk-estimator-id-16\" type=\"checkbox\" ><label for=\"sk-estimator-id-16\" class=\"sk-toggleable__label sk-toggleable__label-arrow\">columntransformer: ColumnTransformer</label><div class=\"sk-toggleable__content\"><pre>ColumnTransformer(transformers=[(&#x27;onehotencoder&#x27;,\n",
       "                                 OneHotEncoder(min_frequency=10),\n",
       "                                 [&#x27;full_flat_type&#x27;, &#x27;commercial&#x27;,\n",
       "                                  &#x27;planning_area&#x27;, &#x27;mrt_interchange&#x27;,\n",
       "                                  &#x27;pri_sch_affiliation&#x27;, &#x27;pri_sch_name&#x27;,\n",
       "                                  &#x27;sec_sch_name&#x27;]),\n",
       "                                (&#x27;standardscaler&#x27;, StandardScaler(),\n",
       "                                 [&#x27;floor_area_sqm&#x27;, &#x27;mid_storey&#x27;,\n",
       "                                  &#x27;mall_nearest_distance&#x27;,\n",
       "                                  &#x27;hawker_nearest_distance&#x27;,\n",
       "                                  &#x27;mrt_nearest_distance&#x27;,\n",
       "                                  &#x27;pri_sch_nearest_distance&#x27;,\n",
       "                                  &#x27;sec_sch_nearest_dist&#x27;, &#x27;age_when_sold&#x27;])])</pre></div></div></div><div class=\"sk-parallel\"><div class=\"sk-parallel-item\"><div class=\"sk-item\"><div class=\"sk-label-container\"><div class=\"sk-label sk-toggleable\"><input class=\"sk-toggleable__control sk-hidden--visually\" id=\"sk-estimator-id-17\" type=\"checkbox\" ><label for=\"sk-estimator-id-17\" class=\"sk-toggleable__label sk-toggleable__label-arrow\">onehotencoder</label><div class=\"sk-toggleable__content\"><pre>[&#x27;full_flat_type&#x27;, &#x27;commercial&#x27;, &#x27;planning_area&#x27;, &#x27;mrt_interchange&#x27;, &#x27;pri_sch_affiliation&#x27;, &#x27;pri_sch_name&#x27;, &#x27;sec_sch_name&#x27;]</pre></div></div></div><div class=\"sk-serial\"><div class=\"sk-item\"><div class=\"sk-estimator sk-toggleable\"><input class=\"sk-toggleable__control sk-hidden--visually\" id=\"sk-estimator-id-18\" type=\"checkbox\" ><label for=\"sk-estimator-id-18\" class=\"sk-toggleable__label sk-toggleable__label-arrow\">OneHotEncoder</label><div class=\"sk-toggleable__content\"><pre>OneHotEncoder(min_frequency=10)</pre></div></div></div></div></div></div><div class=\"sk-parallel-item\"><div class=\"sk-item\"><div class=\"sk-label-container\"><div class=\"sk-label sk-toggleable\"><input class=\"sk-toggleable__control sk-hidden--visually\" id=\"sk-estimator-id-19\" type=\"checkbox\" ><label for=\"sk-estimator-id-19\" class=\"sk-toggleable__label sk-toggleable__label-arrow\">standardscaler</label><div class=\"sk-toggleable__content\"><pre>[&#x27;floor_area_sqm&#x27;, &#x27;mid_storey&#x27;, &#x27;mall_nearest_distance&#x27;, &#x27;hawker_nearest_distance&#x27;, &#x27;mrt_nearest_distance&#x27;, &#x27;pri_sch_nearest_distance&#x27;, &#x27;sec_sch_nearest_dist&#x27;, &#x27;age_when_sold&#x27;]</pre></div></div></div><div class=\"sk-serial\"><div class=\"sk-item\"><div class=\"sk-estimator sk-toggleable\"><input class=\"sk-toggleable__control sk-hidden--visually\" id=\"sk-estimator-id-20\" type=\"checkbox\" ><label for=\"sk-estimator-id-20\" class=\"sk-toggleable__label sk-toggleable__label-arrow\">StandardScaler</label><div class=\"sk-toggleable__content\"><pre>StandardScaler()</pre></div></div></div></div></div></div></div></div><div class=\"sk-item\"><div class=\"sk-estimator sk-toggleable\"><input class=\"sk-toggleable__control sk-hidden--visually\" id=\"sk-estimator-id-21\" type=\"checkbox\" ><label for=\"sk-estimator-id-21\" class=\"sk-toggleable__label sk-toggleable__label-arrow\">LassoCV</label><div class=\"sk-toggleable__content\"><pre>LassoCV(alphas=array([1.00000000e-20, 1.10069417e-19, 1.21152766e-18, 1.33352143e-17,\n",
       "       1.46779927e-16, 1.61559810e-15, 1.77827941e-14, 1.95734178e-13,\n",
       "       2.15443469e-12, 2.37137371e-11, 2.61015722e-10, 2.87298483e-09,\n",
       "       3.16227766e-08, 3.48070059e-07, 3.83118685e-06, 4.21696503e-05,\n",
       "       4.64158883e-04, 5.10896977e-03, 5.62341325e-02, 6.18965819e-01,\n",
       "       6.81292069e+00, 7.49894209e+01, 8.25404185e+02, 9.08517576e+03,\n",
       "       1.00000000e+05]),\n",
       "        cv=5, max_iter=10000, tol=0.1)</pre></div></div></div></div></div></div></div>"
      ],
      "text/plain": [
       "Pipeline(steps=[('columntransformer',\n",
       "                 ColumnTransformer(transformers=[('onehotencoder',\n",
       "                                                  OneHotEncoder(min_frequency=10),\n",
       "                                                  ['full_flat_type',\n",
       "                                                   'commercial',\n",
       "                                                   'planning_area',\n",
       "                                                   'mrt_interchange',\n",
       "                                                   'pri_sch_affiliation',\n",
       "                                                   'pri_sch_name',\n",
       "                                                   'sec_sch_name']),\n",
       "                                                 ('standardscaler',\n",
       "                                                  StandardScaler(),\n",
       "                                                  ['floor_area_sqm',\n",
       "                                                   'mid_storey',\n",
       "                                                   'mall_nearest_distance',\n",
       "                                                   'hawker_nearest_distanc...\n",
       "                 LassoCV(alphas=array([1.00000000e-20, 1.10069417e-19, 1.21152766e-18, 1.33352143e-17,\n",
       "       1.46779927e-16, 1.61559810e-15, 1.77827941e-14, 1.95734178e-13,\n",
       "       2.15443469e-12, 2.37137371e-11, 2.61015722e-10, 2.87298483e-09,\n",
       "       3.16227766e-08, 3.48070059e-07, 3.83118685e-06, 4.21696503e-05,\n",
       "       4.64158883e-04, 5.10896977e-03, 5.62341325e-02, 6.18965819e-01,\n",
       "       6.81292069e+00, 7.49894209e+01, 8.25404185e+02, 9.08517576e+03,\n",
       "       1.00000000e+05]),\n",
       "                         cv=5, max_iter=10000, tol=0.1))])"
      ]
     },
     "execution_count": 15,
     "metadata": {},
     "output_type": "execute_result"
    }
   ],
   "source": [
    "lasso_pipe"
   ]
  },
  {
   "cell_type": "code",
   "execution_count": 16,
   "id": "ee1d8434-9c89-42a6-a5c6-c70ac0dd1206",
   "metadata": {},
   "outputs": [
    {
     "name": "stdout",
     "output_type": "stream",
     "text": [
      "The train score is: 0.8994305424066004\n",
      "The test score is: 0.8984566030864874\n",
      "The root mean squared error is 45636.6749272274.\n"
     ]
    }
   ],
   "source": [
    "lasso_pipe.fit(X_train, y_train)\n",
    "print(f\"The train score is: {lasso_pipe.score(X_train, y_train)}\")\n",
    "print(f\"The test score is: {lasso_pipe.score(X_test, y_test)}\")\n",
    "\n",
    "# LassoCV Scores\n",
    "y_test_preds_lasso = lasso_pipe.predict(X_test)\n",
    "\n",
    "# LassoCV Root Mean Squared Error\n",
    "lasso_rmse = np.sqrt(mean_squared_error(y_test, y_test_preds_lasso))\n",
    "print(f'The root mean squared error is {lasso_rmse}.')"
   ]
  },
  {
   "cell_type": "code",
   "execution_count": 17,
   "id": "74a4ec75-1d66-4314-bc1f-971089e3258b",
   "metadata": {},
   "outputs": [
    {
     "data": {
      "text/plain": [
       "1e-20"
      ]
     },
     "execution_count": 17,
     "metadata": {},
     "output_type": "execute_result"
    }
   ],
   "source": [
    "# Best alpha score\n",
    "lasso.alpha_"
   ]
  },
  {
   "cell_type": "markdown",
   "id": "06549ed7-c471-4ee1-8368-b5b174664784",
   "metadata": {},
   "source": [
    "Based on the LassoCV score, I would not recommend using my LassoCV model. This is because:\n",
    "1. There is a convergence warning that I got with the default tolerance. When I increased the LassoCV tolerance, the warning disappeared. However, this means that the score is not as optimal.\n",
    "2. Additionally, I could not find the best alpha. As seen above, the best alpha score is consistently the smallest value of my alpha range, even when I reduced it to an extremely small number.\n",
    "\n",
    "As such, I would not be using my LassoCV model."
   ]
  },
  {
   "cell_type": "markdown",
   "id": "585cf721-58c5-47b7-841b-ed2f1f59899f",
   "metadata": {},
   "source": [
    "## 3. Model Evaluation"
   ]
  },
  {
   "cell_type": "markdown",
   "id": "05942a93-bcfc-4259-9fdb-5738bf2c1e78",
   "metadata": {},
   "source": [
    "We can say that all the models performed quite well, with R2 values around 0.90 and 0.91. Additionally, the difference between the train and test R2 values are small, less than 0.01. The difference between the train and test Root Mean Square Error values are small too. The results are as follows:\n",
    "\n",
    "\n",
    "| Regression Type            | Train R2 | Test R2 | Root Mean Square Error |\n",
    "|----------------------------|----------|---------|------------------------|\n",
    "| Baseline Linear Regression | 0.909    | 0.909   | 43,304.10              |\n",
    "| Ridge Regression           | 0.909    | 0.909   | 43,319.07              |\n",
    "| Lasso Regression           | 0.899    | 0.898   | 45,636.67              |\n",
    "\n",
    "Overall, the baseline linear regression model has the best performance in terms of R2 score and Root Mean Squared Error. Regularisation did not enhance the baseline's predictive performance. When it comes to the submission to Kaggle, I will be using the linear regression."
   ]
  },
  {
   "cell_type": "markdown",
   "id": "54f97f7c-8952-43f7-b0b0-d5fc9da4e6ef",
   "metadata": {},
   "source": [
    "## 4. Recommendations and Next Steps"
   ]
  },
  {
   "cell_type": "markdown",
   "id": "3a7169b8-bac6-49c8-a402-b327312bd14c",
   "metadata": {},
   "source": [
    "Overall, we managed to create a strong model with an R2 value of 0.91, which means that 91% of the variation of the resale price of an HDB house can be explained by our model. Also, our Root Mean Square Error is approximately 43,000. This means that on average, our predicted price can vary from the actual price by $43,000.\n",
    "\n",
    "Based on the heatmap in the previous notebook, we found five main characteristics of an HDB house that would affect its resale value the most.\n",
    "1. Size of the house - The larger the size of the house, the more expensive it is.\n",
    "2. The storey of the house - The higher the storey of the house, the more expensive it is.\n",
    "3. The age of the house when sold - The older the house is when sold, the cheaper it is.\n",
    "4. Commercial - If the resale flat does not have commercial units in the same block, it is more expensive.\n",
    "5. Its distance from the nearest MRT station - The nearer it is to an MRT station, the more expensive it is.\n",
    "\n",
    "While there are many Singapore-specific columns, the 5 that we identified appear to be able to be generalised to other cities and countries as well. \n",
    "\n",
    "Going back to the problem statement:\n",
    "**<center>Can we accurately predict the resale value of a Housing Development Board (HDB) flat based on various housing-related data?</center>**\n",
    "\n",
    "I'd say that this model can reasonably predict the resale value of a HDB flat, with an error margin of approximately $43,000 on average. \n",
    "\n",
    "For our next steps, I'd recommend using this model as a baseline for us to build solutions for our primary audience (ie. home buyers). \n",
    "\n",
    "For example, for home buyers who are interested to find out the suggested resale price for a house they are interested to buy, we can have them fill up a form to describe the details of the house they are looking to buy. By filling up the form, it gives us the values for the different independent variables (eg. town, age of house, size of house) that we can put into the model to come up with a suggested price. This suggested price, along with the RMSE, can allow home buyers to decide on the price they would like to offer to the home seller. For example, a desperate buyer can offer a price at the high end of the range, while a buyer who is looking for a bargain can offer a price at the low end of the range. After all, the buying and selling of resale flats is still a very human process."
   ]
  },
  {
   "cell_type": "code",
   "execution_count": 18,
   "id": "e1cba975-4eb2-485d-94ce-68b8ac990328",
   "metadata": {},
   "outputs": [],
   "source": [
    "# Save the model to a file\n",
    "with open('../data/05_final_lr_model.pkl', 'wb') as file:\n",
    "    pickle.dump(lr, file)"
   ]
  }
 ],
 "metadata": {
  "kernelspec": {
   "display_name": "Python 3 (ipykernel)",
   "language": "python",
   "name": "python3"
  },
  "language_info": {
   "codemirror_mode": {
    "name": "ipython",
    "version": 3
   },
   "file_extension": ".py",
   "mimetype": "text/x-python",
   "name": "python",
   "nbconvert_exporter": "python",
   "pygments_lexer": "ipython3",
   "version": "3.8.17"
  }
 },
 "nbformat": 4,
 "nbformat_minor": 5
}
