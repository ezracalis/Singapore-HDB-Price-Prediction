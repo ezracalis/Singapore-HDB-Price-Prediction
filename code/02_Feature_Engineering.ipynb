{
 "cells": [
  {
   "cell_type": "markdown",
   "id": "d900d200-4362-41cf-a8db-15f9f6123012",
   "metadata": {},
   "source": [
    "# Project 2 - Singapore Housing Data and Kaggle Challenge"
   ]
  },
  {
   "cell_type": "markdown",
   "id": "f28bbfd5-e1e5-45b0-9dc3-1731f2b551a6",
   "metadata": {},
   "source": [
    "## Part 2 - Feature Engineering"
   ]
  },
  {
   "cell_type": "markdown",
   "id": "f2f979d5-9d40-49ff-b7a0-48113adf496c",
   "metadata": {},
   "source": [
    "## 1. Feature Engineering"
   ]
  },
  {
   "cell_type": "code",
   "execution_count": 1,
   "id": "186fc786-2840-4a4c-a0ab-9252a6f367b6",
   "metadata": {},
   "outputs": [],
   "source": [
    "import pandas as pd\n",
    "import numpy as np\n",
    "import matplotlib.pyplot as plt\n",
    "import seaborn as sns"
   ]
  },
  {
   "cell_type": "code",
   "execution_count": 2,
   "id": "dcffcf8c-34fc-450b-9df6-293489321d6c",
   "metadata": {},
   "outputs": [],
   "source": [
    "# Importing data.\n",
    "df = pd.read_csv('../data/01_cleaning_and_eda.csv')"
   ]
  },
  {
   "cell_type": "markdown",
   "id": "c3ae3721-4f28-4527-9416-81b88b4a69f7",
   "metadata": {},
   "source": [
    "For feature engineering, we will look to drop columns that we find are unlikely to have a significant impact on the target variable, as well as columns that have a close relationship with another (leading to possible multicollinearity).\n",
    "\n",
    "Similarly, we will look to create columns which may have a better representation of the resale price."
   ]
  },
  {
   "cell_type": "markdown",
   "id": "5ada53e4-9f7c-4c12-a69c-edffd6003b11",
   "metadata": {},
   "source": [
    "### 1.1 Creating Features"
   ]
  },
  {
   "cell_type": "markdown",
   "id": "add4226f-4e9d-42c7-810e-605b09608369",
   "metadata": {},
   "source": [
    "The column 'hdb_age' refers to the current age of the HDB. However, it might make more sense to create a new column called 'age_when_sold', which is 'Tranc_Year' minus 'lease_commence_date', as the age when it was sold might reflect the housing price better."
   ]
  },
  {
   "cell_type": "code",
   "execution_count": 3,
   "id": "aac2a1cd-0767-4b63-909f-6a1386bd6157",
   "metadata": {
    "scrolled": true
   },
   "outputs": [],
   "source": [
    "df['age_when_sold'] = df['tranc_year'] - df['lease_commence_date']"
   ]
  },
  {
   "cell_type": "code",
   "execution_count": 4,
   "id": "c7edc7e9-5a47-4c55-afa9-19503a264f99",
   "metadata": {},
   "outputs": [
    {
     "data": {
      "text/html": [
       "<div>\n",
       "<style scoped>\n",
       "    .dataframe tbody tr th:only-of-type {\n",
       "        vertical-align: middle;\n",
       "    }\n",
       "\n",
       "    .dataframe tbody tr th {\n",
       "        vertical-align: top;\n",
       "    }\n",
       "\n",
       "    .dataframe thead th {\n",
       "        text-align: right;\n",
       "    }\n",
       "</style>\n",
       "<table border=\"1\" class=\"dataframe\">\n",
       "  <thead>\n",
       "    <tr style=\"text-align: right;\">\n",
       "      <th></th>\n",
       "      <th>age_when_sold</th>\n",
       "      <th>tranc_year</th>\n",
       "      <th>lease_commence_date</th>\n",
       "    </tr>\n",
       "  </thead>\n",
       "  <tbody>\n",
       "    <tr>\n",
       "      <th>0</th>\n",
       "      <td>10</td>\n",
       "      <td>2016</td>\n",
       "      <td>2006</td>\n",
       "    </tr>\n",
       "    <tr>\n",
       "      <th>1</th>\n",
       "      <td>25</td>\n",
       "      <td>2012</td>\n",
       "      <td>1987</td>\n",
       "    </tr>\n",
       "    <tr>\n",
       "      <th>2</th>\n",
       "      <td>16</td>\n",
       "      <td>2013</td>\n",
       "      <td>1997</td>\n",
       "    </tr>\n",
       "    <tr>\n",
       "      <th>3</th>\n",
       "      <td>20</td>\n",
       "      <td>2012</td>\n",
       "      <td>1992</td>\n",
       "    </tr>\n",
       "    <tr>\n",
       "      <th>4</th>\n",
       "      <td>30</td>\n",
       "      <td>2017</td>\n",
       "      <td>1987</td>\n",
       "    </tr>\n",
       "  </tbody>\n",
       "</table>\n",
       "</div>"
      ],
      "text/plain": [
       "   age_when_sold  tranc_year  lease_commence_date\n",
       "0             10        2016                 2006\n",
       "1             25        2012                 1987\n",
       "2             16        2013                 1997\n",
       "3             20        2012                 1992\n",
       "4             30        2017                 1987"
      ]
     },
     "execution_count": 4,
     "metadata": {},
     "output_type": "execute_result"
    }
   ],
   "source": [
    "# Ensuring that the 'age_when_sold' column is accurate\n",
    "df[['age_when_sold','tranc_year','lease_commence_date']].head()"
   ]
  },
  {
   "cell_type": "markdown",
   "id": "a0d2a35f-384b-474e-b2b8-ac1c8c53e58b",
   "metadata": {},
   "source": [
    "### 1.2 Dropping other columns"
   ]
  },
  {
   "cell_type": "markdown",
   "id": "887e1737-57f8-4fe8-8577-3e02081905d5",
   "metadata": {},
   "source": [
    "In Notebook 01, we identified the columns that we felt were not completely correlated to other columns. Now, we will also drop a number of columns that we feel little to no value, due to the presence of other columns. \n",
    "\n",
    "We will be dropping the following columns:\n",
    "| No. | Column(s)                                | Reason                                                                                                                                      |\n",
    "|-----|------------------------------------------|---------------------------------------------------------------------------------------------------------------------------------------------|\n",
    "| 1   | tranc_yearmonth, tranc_month, tranc_year | I will represent the time of sale by 'age_when_sold' and drop these three to prevent multicollinearity.                                     |\n",
    "| 2   | lease_commence_date                      | To prevent multicollinearity with 'age_when_sold', I will drop it.                                                                          |\n",
    "| 3   | town                                     | The data is similar to 'planning_area', but we will choose 'planning_area' as it is more granular without being too granular.               |\n",
    "| 4   | flat_type                                | We will use 'full_flat_type'.                                                                                                               |\n",
    "| 5   | block                                    | The number of the block is useless without more details.                                                                                    |\n",
    "| 6   | street_name                              | The data is too granular and creating 547 dummies would not make sense. Location would be better represented by the column 'planning_area'. |\n",
    "| 7   | storey_range                             | The columns 'mid_storey', 'lower', 'upper', 'mid' is just a representation of 'storey_range'. Perhaps we can drop the latter.               |\n",
    "| 8   | flat_model                               | It does not make sense without the context of 'flat_type'. We will keep 'full_flat_type' instead.                                           |\n",
    "| 9   | address                                  | It is too granular with 9013 dummies. Location would be better represented by the column 'planning_area'.                                   |\n",
    "| 10  | postal                                   | It is too granular with 8982 dummies. Location would be better represented by the column 'planning_area'.                                   |\n",
    "| 11  | mrt_name                                 | They give a good understanding of the location, but this can be done by 'planning_area'.                                                    |\n",
    "| 12  | bus_stop_name                            | The strings do not give a good understanding of the location.                                                                               |\n"
   ]
  },
  {
   "cell_type": "code",
   "execution_count": 5,
   "id": "d3661898-d410-4971-9e0a-26b724cdaa5a",
   "metadata": {},
   "outputs": [],
   "source": [
    "df.drop(columns = ['tranc_yearmonth', 'tranc_month','tranc_year', 'lease_commence_date',\n",
    "                   'town', 'flat_type', 'block', 'street_name', 'storey_range', 'flat_model', \n",
    "                   'address', 'postal', 'mrt_name', 'bus_stop_name'], inplace = True)"
   ]
  },
  {
   "cell_type": "markdown",
   "id": "b6e839e1-36f1-4f59-959d-c10f17a6f5c8",
   "metadata": {},
   "source": [
    "Let's have a look at the remaining columns."
   ]
  },
  {
   "cell_type": "code",
   "execution_count": 6,
   "id": "f575ad02-8380-4160-8f49-dc649d6cda60",
   "metadata": {},
   "outputs": [
    {
     "data": {
      "text/html": [
       "<div>\n",
       "<style scoped>\n",
       "    .dataframe tbody tr th:only-of-type {\n",
       "        vertical-align: middle;\n",
       "    }\n",
       "\n",
       "    .dataframe tbody tr th {\n",
       "        vertical-align: top;\n",
       "    }\n",
       "\n",
       "    .dataframe thead th {\n",
       "        text-align: right;\n",
       "    }\n",
       "</style>\n",
       "<table border=\"1\" class=\"dataframe\">\n",
       "  <thead>\n",
       "    <tr style=\"text-align: right;\">\n",
       "      <th></th>\n",
       "      <th>floor_area_sqm</th>\n",
       "      <th>resale_price</th>\n",
       "      <th>mid_storey</th>\n",
       "      <th>full_flat_type</th>\n",
       "      <th>max_floor_lvl</th>\n",
       "      <th>commercial</th>\n",
       "      <th>market_hawker</th>\n",
       "      <th>multistorey_carpark</th>\n",
       "      <th>precinct_pavilion</th>\n",
       "      <th>total_dwelling_units</th>\n",
       "      <th>planning_area</th>\n",
       "      <th>mall_nearest_distance</th>\n",
       "      <th>hawker_nearest_distance</th>\n",
       "      <th>hawker_food_stalls</th>\n",
       "      <th>hawker_market_stalls</th>\n",
       "      <th>mrt_nearest_distance</th>\n",
       "      <th>bus_interchange</th>\n",
       "      <th>mrt_interchange</th>\n",
       "      <th>bus_stop_nearest_distance</th>\n",
       "      <th>pri_sch_nearest_distance</th>\n",
       "      <th>pri_sch_name</th>\n",
       "      <th>vacancy</th>\n",
       "      <th>pri_sch_affiliation</th>\n",
       "      <th>sec_sch_nearest_dist</th>\n",
       "      <th>sec_sch_name</th>\n",
       "      <th>cutoff_point</th>\n",
       "      <th>affiliation</th>\n",
       "      <th>age_when_sold</th>\n",
       "    </tr>\n",
       "  </thead>\n",
       "  <tbody>\n",
       "    <tr>\n",
       "      <th>0</th>\n",
       "      <td>90.0</td>\n",
       "      <td>680000.0</td>\n",
       "      <td>11</td>\n",
       "      <td>4 ROOM Model A</td>\n",
       "      <td>25</td>\n",
       "      <td>0</td>\n",
       "      <td>0</td>\n",
       "      <td>0</td>\n",
       "      <td>0</td>\n",
       "      <td>142</td>\n",
       "      <td>Kallang</td>\n",
       "      <td>1094.090418</td>\n",
       "      <td>154.753357</td>\n",
       "      <td>84</td>\n",
       "      <td>60</td>\n",
       "      <td>330.083069</td>\n",
       "      <td>0</td>\n",
       "      <td>0</td>\n",
       "      <td>29.427395</td>\n",
       "      <td>1138.633422</td>\n",
       "      <td>Geylang Methodist School</td>\n",
       "      <td>78</td>\n",
       "      <td>1</td>\n",
       "      <td>1138.633422</td>\n",
       "      <td>Geylang Methodist School</td>\n",
       "      <td>224</td>\n",
       "      <td>0</td>\n",
       "      <td>10</td>\n",
       "    </tr>\n",
       "    <tr>\n",
       "      <th>1</th>\n",
       "      <td>130.0</td>\n",
       "      <td>665000.0</td>\n",
       "      <td>8</td>\n",
       "      <td>5 ROOM Improved</td>\n",
       "      <td>9</td>\n",
       "      <td>0</td>\n",
       "      <td>0</td>\n",
       "      <td>0</td>\n",
       "      <td>0</td>\n",
       "      <td>112</td>\n",
       "      <td>Bishan</td>\n",
       "      <td>866.941448</td>\n",
       "      <td>640.151925</td>\n",
       "      <td>80</td>\n",
       "      <td>77</td>\n",
       "      <td>903.659703</td>\n",
       "      <td>1</td>\n",
       "      <td>1</td>\n",
       "      <td>58.207761</td>\n",
       "      <td>415.607357</td>\n",
       "      <td>Kuo Chuan Presbyterian Primary School</td>\n",
       "      <td>45</td>\n",
       "      <td>1</td>\n",
       "      <td>447.894399</td>\n",
       "      <td>Kuo Chuan Presbyterian Secondary School</td>\n",
       "      <td>232</td>\n",
       "      <td>0</td>\n",
       "      <td>25</td>\n",
       "    </tr>\n",
       "    <tr>\n",
       "      <th>2</th>\n",
       "      <td>144.0</td>\n",
       "      <td>838000.0</td>\n",
       "      <td>14</td>\n",
       "      <td>EXECUTIVE Apartment</td>\n",
       "      <td>16</td>\n",
       "      <td>0</td>\n",
       "      <td>0</td>\n",
       "      <td>0</td>\n",
       "      <td>0</td>\n",
       "      <td>90</td>\n",
       "      <td>Bukit Batok</td>\n",
       "      <td>1459.579948</td>\n",
       "      <td>1762.082341</td>\n",
       "      <td>84</td>\n",
       "      <td>95</td>\n",
       "      <td>1334.251197</td>\n",
       "      <td>1</td>\n",
       "      <td>0</td>\n",
       "      <td>214.747860</td>\n",
       "      <td>498.849039</td>\n",
       "      <td>Keming Primary School</td>\n",
       "      <td>39</td>\n",
       "      <td>0</td>\n",
       "      <td>180.074558</td>\n",
       "      <td>Yusof Ishak Secondary School</td>\n",
       "      <td>188</td>\n",
       "      <td>0</td>\n",
       "      <td>16</td>\n",
       "    </tr>\n",
       "    <tr>\n",
       "      <th>3</th>\n",
       "      <td>103.0</td>\n",
       "      <td>550000.0</td>\n",
       "      <td>3</td>\n",
       "      <td>4 ROOM Model A</td>\n",
       "      <td>11</td>\n",
       "      <td>1</td>\n",
       "      <td>0</td>\n",
       "      <td>0</td>\n",
       "      <td>0</td>\n",
       "      <td>75</td>\n",
       "      <td>Bishan</td>\n",
       "      <td>950.175199</td>\n",
       "      <td>726.215262</td>\n",
       "      <td>32</td>\n",
       "      <td>86</td>\n",
       "      <td>907.453484</td>\n",
       "      <td>1</td>\n",
       "      <td>1</td>\n",
       "      <td>43.396521</td>\n",
       "      <td>389.515528</td>\n",
       "      <td>Catholic High School</td>\n",
       "      <td>20</td>\n",
       "      <td>1</td>\n",
       "      <td>389.515528</td>\n",
       "      <td>Catholic High School</td>\n",
       "      <td>253</td>\n",
       "      <td>1</td>\n",
       "      <td>20</td>\n",
       "    </tr>\n",
       "    <tr>\n",
       "      <th>4</th>\n",
       "      <td>83.0</td>\n",
       "      <td>298000.0</td>\n",
       "      <td>2</td>\n",
       "      <td>4 ROOM Simplified</td>\n",
       "      <td>4</td>\n",
       "      <td>0</td>\n",
       "      <td>0</td>\n",
       "      <td>0</td>\n",
       "      <td>0</td>\n",
       "      <td>48</td>\n",
       "      <td>Yishun</td>\n",
       "      <td>729.771895</td>\n",
       "      <td>1540.151439</td>\n",
       "      <td>45</td>\n",
       "      <td>0</td>\n",
       "      <td>412.343032</td>\n",
       "      <td>0</td>\n",
       "      <td>0</td>\n",
       "      <td>129.422752</td>\n",
       "      <td>401.200584</td>\n",
       "      <td>Naval Base Primary School</td>\n",
       "      <td>74</td>\n",
       "      <td>0</td>\n",
       "      <td>312.025435</td>\n",
       "      <td>Orchid Park Secondary School</td>\n",
       "      <td>208</td>\n",
       "      <td>0</td>\n",
       "      <td>30</td>\n",
       "    </tr>\n",
       "  </tbody>\n",
       "</table>\n",
       "</div>"
      ],
      "text/plain": [
       "   floor_area_sqm  resale_price  mid_storey       full_flat_type  \\\n",
       "0            90.0      680000.0          11       4 ROOM Model A   \n",
       "1           130.0      665000.0           8      5 ROOM Improved   \n",
       "2           144.0      838000.0          14  EXECUTIVE Apartment   \n",
       "3           103.0      550000.0           3       4 ROOM Model A   \n",
       "4            83.0      298000.0           2    4 ROOM Simplified   \n",
       "\n",
       "   max_floor_lvl  commercial  market_hawker  multistorey_carpark  \\\n",
       "0             25           0              0                    0   \n",
       "1              9           0              0                    0   \n",
       "2             16           0              0                    0   \n",
       "3             11           1              0                    0   \n",
       "4              4           0              0                    0   \n",
       "\n",
       "   precinct_pavilion  total_dwelling_units planning_area  \\\n",
       "0                  0                   142       Kallang   \n",
       "1                  0                   112        Bishan   \n",
       "2                  0                    90   Bukit Batok   \n",
       "3                  0                    75        Bishan   \n",
       "4                  0                    48        Yishun   \n",
       "\n",
       "   mall_nearest_distance  hawker_nearest_distance  hawker_food_stalls  \\\n",
       "0            1094.090418               154.753357                  84   \n",
       "1             866.941448               640.151925                  80   \n",
       "2            1459.579948              1762.082341                  84   \n",
       "3             950.175199               726.215262                  32   \n",
       "4             729.771895              1540.151439                  45   \n",
       "\n",
       "   hawker_market_stalls  mrt_nearest_distance  bus_interchange  \\\n",
       "0                    60            330.083069                0   \n",
       "1                    77            903.659703                1   \n",
       "2                    95           1334.251197                1   \n",
       "3                    86            907.453484                1   \n",
       "4                     0            412.343032                0   \n",
       "\n",
       "   mrt_interchange  bus_stop_nearest_distance  pri_sch_nearest_distance  \\\n",
       "0                0                  29.427395               1138.633422   \n",
       "1                1                  58.207761                415.607357   \n",
       "2                0                 214.747860                498.849039   \n",
       "3                1                  43.396521                389.515528   \n",
       "4                0                 129.422752                401.200584   \n",
       "\n",
       "                            pri_sch_name  vacancy  pri_sch_affiliation  \\\n",
       "0               Geylang Methodist School       78                    1   \n",
       "1  Kuo Chuan Presbyterian Primary School       45                    1   \n",
       "2                  Keming Primary School       39                    0   \n",
       "3                   Catholic High School       20                    1   \n",
       "4              Naval Base Primary School       74                    0   \n",
       "\n",
       "   sec_sch_nearest_dist                             sec_sch_name  \\\n",
       "0           1138.633422                 Geylang Methodist School   \n",
       "1            447.894399  Kuo Chuan Presbyterian Secondary School   \n",
       "2            180.074558             Yusof Ishak Secondary School   \n",
       "3            389.515528                     Catholic High School   \n",
       "4            312.025435             Orchid Park Secondary School   \n",
       "\n",
       "   cutoff_point  affiliation  age_when_sold  \n",
       "0           224            0             10  \n",
       "1           232            0             25  \n",
       "2           188            0             16  \n",
       "3           253            1             20  \n",
       "4           208            0             30  "
      ]
     },
     "execution_count": 6,
     "metadata": {},
     "output_type": "execute_result"
    }
   ],
   "source": [
    "pd.set_option('display.max_columns', None)\n",
    "df.head()"
   ]
  },
  {
   "cell_type": "code",
   "execution_count": 7,
   "id": "d3623c67-8ea6-4775-882e-32ba34b260b1",
   "metadata": {},
   "outputs": [
    {
     "data": {
      "text/plain": [
       "(149772, 28)"
      ]
     },
     "execution_count": 7,
     "metadata": {},
     "output_type": "execute_result"
    }
   ],
   "source": [
    "df.shape"
   ]
  },
  {
   "cell_type": "markdown",
   "id": "320deb98-60a3-476f-93db-23beb3582239",
   "metadata": {},
   "source": [
    "We have cut it down to 28 columns."
   ]
  },
  {
   "cell_type": "markdown",
   "id": "b324a83b-e7ed-4514-819a-1a70a82dd11c",
   "metadata": {},
   "source": [
    "## 2. Exporting File"
   ]
  },
  {
   "cell_type": "markdown",
   "id": "27f68730-1aa2-43f9-a62e-8a94b11fbb27",
   "metadata": {},
   "source": [
    "Exporting the file to use in Notebook 03."
   ]
  },
  {
   "cell_type": "code",
   "execution_count": 8,
   "id": "3bff7aa8-a047-4986-a852-b5c4497e20cc",
   "metadata": {},
   "outputs": [],
   "source": [
    "df.to_csv('../data/02_feature_engineering.csv', index = False)"
   ]
  },
  {
   "cell_type": "code",
   "execution_count": null,
   "id": "5a32c24d-f26a-4322-b440-0ec1a86b6c4e",
   "metadata": {},
   "outputs": [],
   "source": []
  }
 ],
 "metadata": {
  "kernelspec": {
   "display_name": "Python 3 (ipykernel)",
   "language": "python",
   "name": "python3"
  },
  "language_info": {
   "codemirror_mode": {
    "name": "ipython",
    "version": 3
   },
   "file_extension": ".py",
   "mimetype": "text/x-python",
   "name": "python",
   "nbconvert_exporter": "python",
   "pygments_lexer": "ipython3",
   "version": "3.8.17"
  }
 },
 "nbformat": 4,
 "nbformat_minor": 5
}
