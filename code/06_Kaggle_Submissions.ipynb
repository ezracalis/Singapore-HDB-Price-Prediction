{
 "cells": [
  {
   "cell_type": "markdown",
   "id": "a42346cd-9822-471f-a132-ada5f038d2c5",
   "metadata": {},
   "source": [
    "# Project 2 - Singapore Housing Data and Kaggle Challenge"
   ]
  },
  {
   "cell_type": "markdown",
   "id": "4a30bf89-cedf-4f66-baf3-5f029bd5aacc",
   "metadata": {},
   "source": [
    "## Part 6 - Kaggle Submission"
   ]
  },
  {
   "cell_type": "markdown",
   "id": "058fa36a-12dc-4a57-838f-5300a125ee57",
   "metadata": {},
   "source": [
    "## Step 1: Data Import"
   ]
  },
  {
   "cell_type": "markdown",
   "id": "58b17488-fdac-45d4-8aca-6465c358efbb",
   "metadata": {},
   "source": [
    "Let us start off by importing the data."
   ]
  },
  {
   "cell_type": "code",
   "execution_count": 1,
   "id": "8613f39b-512e-463c-bf00-ce63342f557e",
   "metadata": {},
   "outputs": [],
   "source": [
    "import pandas as pd\n",
    "import numpy as np\n",
    "\n",
    "from scipy import stats\n",
    "\n",
    "from sklearn.model_selection import train_test_split, cross_val_score\n",
    "from sklearn.linear_model import LinearRegression\n",
    "from sklearn.metrics import r2_score, mean_squared_error\n",
    "from sklearn.preprocessing import OneHotEncoder, StandardScaler\n",
    "from sklearn.compose import ColumnTransformer, make_column_transformer\n",
    "from sklearn.pipeline import Pipeline, make_pipeline\n",
    "\n",
    "import pickle"
   ]
  },
  {
   "cell_type": "code",
   "execution_count": 2,
   "id": "776cdd5e-8cb0-4cbf-b547-f0d5d224ecb4",
   "metadata": {},
   "outputs": [],
   "source": [
    "# Importing data.\n",
    "test = pd.read_csv('../data/test.csv', low_memory = False)\n",
    "train_clean = pd.read_csv('../data/04_cleaned_df.csv', low_memory = False)\n",
    "\n",
    "\n",
    "with open('../data/05_final_lr_model.pkl', 'rb') as file:\n",
    "    lr = pickle.load(file)"
   ]
  },
  {
   "cell_type": "markdown",
   "id": "5cade9c0-e139-4d7a-9a20-6d2f91ff1995",
   "metadata": {},
   "source": [
    "## Step 2. Data Cleaning on test.csv"
   ]
  },
  {
   "cell_type": "code",
   "execution_count": 3,
   "id": "209fd99a-a8e1-464e-aa0d-e8adfdaf99bc",
   "metadata": {},
   "outputs": [],
   "source": [
    "# Slicing ID column first\n",
    "test_id = test['id']"
   ]
  },
  {
   "cell_type": "code",
   "execution_count": 4,
   "id": "7ddfb73c-2764-4748-aba5-2afbd6086ee2",
   "metadata": {},
   "outputs": [],
   "source": [
    "# Replacing null values with zeroes in the columns 'Mall_Within_500m', 'Mall_Within_1km', 'Mall_Within_2km'.\n",
    "test.fillna(value = {'Mall_Within_500m': 0, 'Mall_Within_1km': 0, 'Mall_Within_2km': 0}, \n",
    "          inplace = True)\n",
    "\n",
    "mean_value=test['Mall_Nearest_Distance'].mean()\n",
    "test.fillna(value = {'Mall_Nearest_Distance': mean_value}, \n",
    "          inplace = True)\n",
    "\n",
    "\n",
    "# Replace null values in 'Mall_Nearest_Distance' to 2000 (ie. 2km)\n",
    "# Note that this is different from train set, but we can't drop rows for test set\n",
    "test.fillna(value = {'Mall_Nearest_Distance': 2000}, \n",
    "          inplace = True)\n",
    "\n",
    "# Replacing null values with zeroes in the columns 'Hawker_Within_500m', 'Hawker_Within_1km', 'Hawker_Within_2km'.\n",
    "test.fillna(value = {'Hawker_Within_500m': 0, 'Hawker_Within_1km': 0, 'Hawker_Within_2km': 0}, \n",
    "          inplace = True)\n",
    "\n",
    "# Converting 'Tranc_YearMonth' to datetime\n",
    "test['Tranc_YearMonth'] = pd.to_datetime(test['Tranc_YearMonth'], format = '%Y-%m')\n",
    "\n",
    "\n",
    "# Dropping 'residential'\n",
    "test.drop(columns = 'residential', inplace = True)\n",
    "\n",
    "# Replacing booleans\n",
    "test.replace({'commercial': {'Y':1, 'N':0}, \n",
    "           'market_hawker': {'Y':1, 'N':0}, \n",
    "           'multistorey_carpark': {'Y':1, 'N':0}, \n",
    "           'precinct_pavilion': {'Y':1, 'N':0}}, inplace = True)\n",
    "\n",
    "# Change columns to lowercase\n",
    "test.columns = test.columns.str.lower()\n",
    "\n",
    "# Creating new feature\n",
    "test['age_when_sold'] = test['tranc_year'] - test['lease_commence_date']\n",
    "\n",
    "# Dropping other columns\n",
    "test.drop(columns = ['id','tranc_yearmonth', 'tranc_month','tranc_year', 'lease_commence_date',\n",
    "                   'town', 'flat_type', 'block', 'street_name', 'storey_range', 'flat_model', \n",
    "                   'lower', 'upper', 'mid',\n",
    "                   'address', 'floor_area_sqft', 'hdb_age', 'year_completed', '1room_sold', \n",
    "                   '2room_sold','3room_sold', '4room_sold', '5room_sold', 'exec_sold', \n",
    "                   'multigen_sold', 'studio_apartment_sold', '1room_rental', '2room_rental', \n",
    "                   '3room_rental', 'other_room_rental', 'postal', 'latitude', 'longitude',\n",
    "                   'mall_within_500m', 'mall_within_1km', 'mall_within_2km', 'hawker_within_500m',\n",
    "                   'hawker_within_1km', 'hawker_within_2km', 'mrt_name','mrt_latitude', \n",
    "                   'mrt_longitude', 'bus_stop_name', 'bus_stop_latitude', 'bus_stop_longitude', \n",
    "                   'pri_sch_latitude', 'pri_sch_longitude', \n",
    "                   'sec_sch_latitude', 'sec_sch_longitude'], inplace = True)\n",
    "\n",
    "# Dropping additional columns\n",
    "test.drop(columns = ['cutoff_point', 'vacancy', 'total_dwelling_units', 'hawker_food_stalls',\n",
    "                  'bus_stop_nearest_distance', 'max_floor_lvl', 'market_hawker', \n",
    "                   'multistorey_carpark', 'precinct_pavilion', 'hawker_market_stalls',\n",
    "                  'bus_interchange', 'affiliation'], inplace = True)"
   ]
  },
  {
   "cell_type": "code",
   "execution_count": 5,
   "id": "c7a0bf2d-fcff-4795-96b7-ea9c1d94a39e",
   "metadata": {},
   "outputs": [
    {
     "data": {
      "text/plain": [
       "(16737, 15)"
      ]
     },
     "execution_count": 5,
     "metadata": {},
     "output_type": "execute_result"
    }
   ],
   "source": [
    "test.shape"
   ]
  },
  {
   "cell_type": "markdown",
   "id": "2fe5303d-9d92-4a42-86ae-c805621c8990",
   "metadata": {},
   "source": [
    "## Step 3. Fit-transform on cleaned trained data"
   ]
  },
  {
   "cell_type": "code",
   "execution_count": 6,
   "id": "ac905994-a954-42ca-b75d-1255fd70159f",
   "metadata": {},
   "outputs": [],
   "source": [
    "# Defining numerical columns and categorical columns\n",
    "\n",
    "num_columns = ['floor_area_sqm', 'mid_storey', \n",
    "                'mall_nearest_distance', 'hawker_nearest_distance',\n",
    "                'mrt_nearest_distance',\n",
    "               'pri_sch_nearest_distance', \n",
    "               'sec_sch_nearest_dist',\n",
    "                'age_when_sold']\n",
    "\n",
    "cat_columns = ['full_flat_type', 'commercial', \n",
    "               'planning_area',  'mrt_interchange',  \n",
    "                'pri_sch_affiliation', 'pri_sch_name', 'sec_sch_name']"
   ]
  },
  {
   "cell_type": "code",
   "execution_count": 7,
   "id": "194104d2-a3da-4441-a0c4-85e1ec68eb40",
   "metadata": {},
   "outputs": [],
   "source": [
    "X = train_clean.drop(columns= 'resale_price')\n",
    "y = train_clean['resale_price']"
   ]
  },
  {
   "cell_type": "code",
   "execution_count": 8,
   "id": "28721cd2-5169-449d-9d7b-68957bc4e033",
   "metadata": {},
   "outputs": [],
   "source": [
    "# Train test split on clean trained data\n",
    "X_train, X_test, y_train, y_test = train_test_split(X, y, random_state=123)"
   ]
  },
  {
   "cell_type": "code",
   "execution_count": 9,
   "id": "44adfcad-b780-4b4d-b3f9-19aea950d73d",
   "metadata": {},
   "outputs": [],
   "source": [
    "# Test data\n",
    "X_test_kaggle = test"
   ]
  },
  {
   "cell_type": "code",
   "execution_count": 10,
   "id": "567cbf52-bcb8-4d72-b718-51a8d15dfdc9",
   "metadata": {},
   "outputs": [],
   "source": [
    "# Instantiating OHE, SS and CT\n",
    "ohe = OneHotEncoder(min_frequency = 10)\n",
    "ss = StandardScaler()\n",
    "ct = make_column_transformer(\n",
    "    (ohe, cat_columns),\n",
    "    (ss, num_columns))"
   ]
  },
  {
   "cell_type": "code",
   "execution_count": 11,
   "id": "f494407e-707d-4667-a5c9-97c970765c0d",
   "metadata": {},
   "outputs": [
    {
     "data": {
      "text/html": [
       "<style>#sk-container-id-1 {color: black;background-color: white;}#sk-container-id-1 pre{padding: 0;}#sk-container-id-1 div.sk-toggleable {background-color: white;}#sk-container-id-1 label.sk-toggleable__label {cursor: pointer;display: block;width: 100%;margin-bottom: 0;padding: 0.3em;box-sizing: border-box;text-align: center;}#sk-container-id-1 label.sk-toggleable__label-arrow:before {content: \"▸\";float: left;margin-right: 0.25em;color: #696969;}#sk-container-id-1 label.sk-toggleable__label-arrow:hover:before {color: black;}#sk-container-id-1 div.sk-estimator:hover label.sk-toggleable__label-arrow:before {color: black;}#sk-container-id-1 div.sk-toggleable__content {max-height: 0;max-width: 0;overflow: hidden;text-align: left;background-color: #f0f8ff;}#sk-container-id-1 div.sk-toggleable__content pre {margin: 0.2em;color: black;border-radius: 0.25em;background-color: #f0f8ff;}#sk-container-id-1 input.sk-toggleable__control:checked~div.sk-toggleable__content {max-height: 200px;max-width: 100%;overflow: auto;}#sk-container-id-1 input.sk-toggleable__control:checked~label.sk-toggleable__label-arrow:before {content: \"▾\";}#sk-container-id-1 div.sk-estimator input.sk-toggleable__control:checked~label.sk-toggleable__label {background-color: #d4ebff;}#sk-container-id-1 div.sk-label input.sk-toggleable__control:checked~label.sk-toggleable__label {background-color: #d4ebff;}#sk-container-id-1 input.sk-hidden--visually {border: 0;clip: rect(1px 1px 1px 1px);clip: rect(1px, 1px, 1px, 1px);height: 1px;margin: -1px;overflow: hidden;padding: 0;position: absolute;width: 1px;}#sk-container-id-1 div.sk-estimator {font-family: monospace;background-color: #f0f8ff;border: 1px dotted black;border-radius: 0.25em;box-sizing: border-box;margin-bottom: 0.5em;}#sk-container-id-1 div.sk-estimator:hover {background-color: #d4ebff;}#sk-container-id-1 div.sk-parallel-item::after {content: \"\";width: 100%;border-bottom: 1px solid gray;flex-grow: 1;}#sk-container-id-1 div.sk-label:hover label.sk-toggleable__label {background-color: #d4ebff;}#sk-container-id-1 div.sk-serial::before {content: \"\";position: absolute;border-left: 1px solid gray;box-sizing: border-box;top: 0;bottom: 0;left: 50%;z-index: 0;}#sk-container-id-1 div.sk-serial {display: flex;flex-direction: column;align-items: center;background-color: white;padding-right: 0.2em;padding-left: 0.2em;position: relative;}#sk-container-id-1 div.sk-item {position: relative;z-index: 1;}#sk-container-id-1 div.sk-parallel {display: flex;align-items: stretch;justify-content: center;background-color: white;position: relative;}#sk-container-id-1 div.sk-item::before, #sk-container-id-1 div.sk-parallel-item::before {content: \"\";position: absolute;border-left: 1px solid gray;box-sizing: border-box;top: 0;bottom: 0;left: 50%;z-index: -1;}#sk-container-id-1 div.sk-parallel-item {display: flex;flex-direction: column;z-index: 1;position: relative;background-color: white;}#sk-container-id-1 div.sk-parallel-item:first-child::after {align-self: flex-end;width: 50%;}#sk-container-id-1 div.sk-parallel-item:last-child::after {align-self: flex-start;width: 50%;}#sk-container-id-1 div.sk-parallel-item:only-child::after {width: 0;}#sk-container-id-1 div.sk-dashed-wrapped {border: 1px dashed gray;margin: 0 0.4em 0.5em 0.4em;box-sizing: border-box;padding-bottom: 0.4em;background-color: white;}#sk-container-id-1 div.sk-label label {font-family: monospace;font-weight: bold;display: inline-block;line-height: 1.2em;}#sk-container-id-1 div.sk-label-container {text-align: center;}#sk-container-id-1 div.sk-container {/* jupyter's `normalize.less` sets `[hidden] { display: none; }` but bootstrap.min.css set `[hidden] { display: none !important; }` so we also need the `!important` here to be able to override the default hidden behavior on the sphinx rendered scikit-learn.org. See: https://github.com/scikit-learn/scikit-learn/issues/21755 */display: inline-block !important;position: relative;}#sk-container-id-1 div.sk-text-repr-fallback {display: none;}</style><div id=\"sk-container-id-1\" class=\"sk-top-container\"><div class=\"sk-text-repr-fallback\"><pre>ColumnTransformer(transformers=[(&#x27;onehotencoder&#x27;,\n",
       "                                 OneHotEncoder(min_frequency=10),\n",
       "                                 [&#x27;full_flat_type&#x27;, &#x27;commercial&#x27;,\n",
       "                                  &#x27;planning_area&#x27;, &#x27;mrt_interchange&#x27;,\n",
       "                                  &#x27;pri_sch_affiliation&#x27;, &#x27;pri_sch_name&#x27;,\n",
       "                                  &#x27;sec_sch_name&#x27;]),\n",
       "                                (&#x27;standardscaler&#x27;, StandardScaler(),\n",
       "                                 [&#x27;floor_area_sqm&#x27;, &#x27;mid_storey&#x27;,\n",
       "                                  &#x27;mall_nearest_distance&#x27;,\n",
       "                                  &#x27;hawker_nearest_distance&#x27;,\n",
       "                                  &#x27;mrt_nearest_distance&#x27;,\n",
       "                                  &#x27;pri_sch_nearest_distance&#x27;,\n",
       "                                  &#x27;sec_sch_nearest_dist&#x27;, &#x27;age_when_sold&#x27;])])</pre><b>In a Jupyter environment, please rerun this cell to show the HTML representation or trust the notebook. <br />On GitHub, the HTML representation is unable to render, please try loading this page with nbviewer.org.</b></div><div class=\"sk-container\" hidden><div class=\"sk-item sk-dashed-wrapped\"><div class=\"sk-label-container\"><div class=\"sk-label sk-toggleable\"><input class=\"sk-toggleable__control sk-hidden--visually\" id=\"sk-estimator-id-1\" type=\"checkbox\" ><label for=\"sk-estimator-id-1\" class=\"sk-toggleable__label sk-toggleable__label-arrow\">ColumnTransformer</label><div class=\"sk-toggleable__content\"><pre>ColumnTransformer(transformers=[(&#x27;onehotencoder&#x27;,\n",
       "                                 OneHotEncoder(min_frequency=10),\n",
       "                                 [&#x27;full_flat_type&#x27;, &#x27;commercial&#x27;,\n",
       "                                  &#x27;planning_area&#x27;, &#x27;mrt_interchange&#x27;,\n",
       "                                  &#x27;pri_sch_affiliation&#x27;, &#x27;pri_sch_name&#x27;,\n",
       "                                  &#x27;sec_sch_name&#x27;]),\n",
       "                                (&#x27;standardscaler&#x27;, StandardScaler(),\n",
       "                                 [&#x27;floor_area_sqm&#x27;, &#x27;mid_storey&#x27;,\n",
       "                                  &#x27;mall_nearest_distance&#x27;,\n",
       "                                  &#x27;hawker_nearest_distance&#x27;,\n",
       "                                  &#x27;mrt_nearest_distance&#x27;,\n",
       "                                  &#x27;pri_sch_nearest_distance&#x27;,\n",
       "                                  &#x27;sec_sch_nearest_dist&#x27;, &#x27;age_when_sold&#x27;])])</pre></div></div></div><div class=\"sk-parallel\"><div class=\"sk-parallel-item\"><div class=\"sk-item\"><div class=\"sk-label-container\"><div class=\"sk-label sk-toggleable\"><input class=\"sk-toggleable__control sk-hidden--visually\" id=\"sk-estimator-id-2\" type=\"checkbox\" ><label for=\"sk-estimator-id-2\" class=\"sk-toggleable__label sk-toggleable__label-arrow\">onehotencoder</label><div class=\"sk-toggleable__content\"><pre>[&#x27;full_flat_type&#x27;, &#x27;commercial&#x27;, &#x27;planning_area&#x27;, &#x27;mrt_interchange&#x27;, &#x27;pri_sch_affiliation&#x27;, &#x27;pri_sch_name&#x27;, &#x27;sec_sch_name&#x27;]</pre></div></div></div><div class=\"sk-serial\"><div class=\"sk-item\"><div class=\"sk-estimator sk-toggleable\"><input class=\"sk-toggleable__control sk-hidden--visually\" id=\"sk-estimator-id-3\" type=\"checkbox\" ><label for=\"sk-estimator-id-3\" class=\"sk-toggleable__label sk-toggleable__label-arrow\">OneHotEncoder</label><div class=\"sk-toggleable__content\"><pre>OneHotEncoder(min_frequency=10)</pre></div></div></div></div></div></div><div class=\"sk-parallel-item\"><div class=\"sk-item\"><div class=\"sk-label-container\"><div class=\"sk-label sk-toggleable\"><input class=\"sk-toggleable__control sk-hidden--visually\" id=\"sk-estimator-id-4\" type=\"checkbox\" ><label for=\"sk-estimator-id-4\" class=\"sk-toggleable__label sk-toggleable__label-arrow\">standardscaler</label><div class=\"sk-toggleable__content\"><pre>[&#x27;floor_area_sqm&#x27;, &#x27;mid_storey&#x27;, &#x27;mall_nearest_distance&#x27;, &#x27;hawker_nearest_distance&#x27;, &#x27;mrt_nearest_distance&#x27;, &#x27;pri_sch_nearest_distance&#x27;, &#x27;sec_sch_nearest_dist&#x27;, &#x27;age_when_sold&#x27;]</pre></div></div></div><div class=\"sk-serial\"><div class=\"sk-item\"><div class=\"sk-estimator sk-toggleable\"><input class=\"sk-toggleable__control sk-hidden--visually\" id=\"sk-estimator-id-5\" type=\"checkbox\" ><label for=\"sk-estimator-id-5\" class=\"sk-toggleable__label sk-toggleable__label-arrow\">StandardScaler</label><div class=\"sk-toggleable__content\"><pre>StandardScaler()</pre></div></div></div></div></div></div></div></div></div></div>"
      ],
      "text/plain": [
       "ColumnTransformer(transformers=[('onehotencoder',\n",
       "                                 OneHotEncoder(min_frequency=10),\n",
       "                                 ['full_flat_type', 'commercial',\n",
       "                                  'planning_area', 'mrt_interchange',\n",
       "                                  'pri_sch_affiliation', 'pri_sch_name',\n",
       "                                  'sec_sch_name']),\n",
       "                                ('standardscaler', StandardScaler(),\n",
       "                                 ['floor_area_sqm', 'mid_storey',\n",
       "                                  'mall_nearest_distance',\n",
       "                                  'hawker_nearest_distance',\n",
       "                                  'mrt_nearest_distance',\n",
       "                                  'pri_sch_nearest_distance',\n",
       "                                  'sec_sch_nearest_dist', 'age_when_sold'])])"
      ]
     },
     "execution_count": 11,
     "metadata": {},
     "output_type": "execute_result"
    }
   ],
   "source": [
    "ct"
   ]
  },
  {
   "cell_type": "code",
   "execution_count": 12,
   "id": "6d999990-acaf-4b1f-9af3-9c8a2165d390",
   "metadata": {},
   "outputs": [],
   "source": [
    "# Fit transforming train data, transforming test data\n",
    "Z_train = ct.fit_transform(X_train)\n",
    "Z_test = ct.transform(X_test_kaggle)"
   ]
  },
  {
   "cell_type": "code",
   "execution_count": 13,
   "id": "186bbb40-0a53-4d83-8ac9-8a9892762785",
   "metadata": {
    "scrolled": true
   },
   "outputs": [],
   "source": [
    "# Creating prediction from test data\n",
    "y_test_preds_final = lr.predict(Z_test)"
   ]
  },
  {
   "cell_type": "code",
   "execution_count": 14,
   "id": "ff79dc0c-fb84-4128-be25-0eec80a1172b",
   "metadata": {},
   "outputs": [
    {
     "data": {
      "text/plain": [
       "array([367509.87616079, 499175.53739952, 350328.67721479, ...,\n",
       "       387637.78083723, 520046.9901176 , 379266.50822185])"
      ]
     },
     "execution_count": 14,
     "metadata": {},
     "output_type": "execute_result"
    }
   ],
   "source": [
    "y_test_preds_final"
   ]
  },
  {
   "cell_type": "code",
   "execution_count": 15,
   "id": "b6a6d399-3ef8-4a90-adc2-8c82aa73dd9e",
   "metadata": {},
   "outputs": [
    {
     "data": {
      "text/html": [
       "<div>\n",
       "<style scoped>\n",
       "    .dataframe tbody tr th:only-of-type {\n",
       "        vertical-align: middle;\n",
       "    }\n",
       "\n",
       "    .dataframe tbody tr th {\n",
       "        vertical-align: top;\n",
       "    }\n",
       "\n",
       "    .dataframe thead th {\n",
       "        text-align: right;\n",
       "    }\n",
       "</style>\n",
       "<table border=\"1\" class=\"dataframe\">\n",
       "  <thead>\n",
       "    <tr style=\"text-align: right;\">\n",
       "      <th></th>\n",
       "      <th>id</th>\n",
       "    </tr>\n",
       "  </thead>\n",
       "  <tbody>\n",
       "    <tr>\n",
       "      <th>0</th>\n",
       "      <td>114982</td>\n",
       "    </tr>\n",
       "    <tr>\n",
       "      <th>1</th>\n",
       "      <td>95653</td>\n",
       "    </tr>\n",
       "    <tr>\n",
       "      <th>2</th>\n",
       "      <td>40303</td>\n",
       "    </tr>\n",
       "    <tr>\n",
       "      <th>3</th>\n",
       "      <td>109506</td>\n",
       "    </tr>\n",
       "    <tr>\n",
       "      <th>4</th>\n",
       "      <td>100149</td>\n",
       "    </tr>\n",
       "    <tr>\n",
       "      <th>...</th>\n",
       "      <td>...</td>\n",
       "    </tr>\n",
       "    <tr>\n",
       "      <th>16732</th>\n",
       "      <td>23347</td>\n",
       "    </tr>\n",
       "    <tr>\n",
       "      <th>16733</th>\n",
       "      <td>54003</td>\n",
       "    </tr>\n",
       "    <tr>\n",
       "      <th>16734</th>\n",
       "      <td>128921</td>\n",
       "    </tr>\n",
       "    <tr>\n",
       "      <th>16735</th>\n",
       "      <td>69352</td>\n",
       "    </tr>\n",
       "    <tr>\n",
       "      <th>16736</th>\n",
       "      <td>146210</td>\n",
       "    </tr>\n",
       "  </tbody>\n",
       "</table>\n",
       "<p>16737 rows × 1 columns</p>\n",
       "</div>"
      ],
      "text/plain": [
       "           id\n",
       "0      114982\n",
       "1       95653\n",
       "2       40303\n",
       "3      109506\n",
       "4      100149\n",
       "...       ...\n",
       "16732   23347\n",
       "16733   54003\n",
       "16734  128921\n",
       "16735   69352\n",
       "16736  146210\n",
       "\n",
       "[16737 rows x 1 columns]"
      ]
     },
     "execution_count": 15,
     "metadata": {},
     "output_type": "execute_result"
    }
   ],
   "source": [
    "# Creating a DataFrame from the test id that was sliced earlier\n",
    "result = pd.DataFrame(test_id)\n",
    "result"
   ]
  },
  {
   "cell_type": "code",
   "execution_count": 16,
   "id": "1c320756-6db5-455d-8d9b-2b946218732b",
   "metadata": {},
   "outputs": [
    {
     "data": {
      "text/html": [
       "<div>\n",
       "<style scoped>\n",
       "    .dataframe tbody tr th:only-of-type {\n",
       "        vertical-align: middle;\n",
       "    }\n",
       "\n",
       "    .dataframe tbody tr th {\n",
       "        vertical-align: top;\n",
       "    }\n",
       "\n",
       "    .dataframe thead th {\n",
       "        text-align: right;\n",
       "    }\n",
       "</style>\n",
       "<table border=\"1\" class=\"dataframe\">\n",
       "  <thead>\n",
       "    <tr style=\"text-align: right;\">\n",
       "      <th></th>\n",
       "      <th>id</th>\n",
       "      <th>Predicted</th>\n",
       "    </tr>\n",
       "  </thead>\n",
       "  <tbody>\n",
       "    <tr>\n",
       "      <th>0</th>\n",
       "      <td>114982</td>\n",
       "      <td>367509.876161</td>\n",
       "    </tr>\n",
       "    <tr>\n",
       "      <th>1</th>\n",
       "      <td>95653</td>\n",
       "      <td>499175.537400</td>\n",
       "    </tr>\n",
       "    <tr>\n",
       "      <th>2</th>\n",
       "      <td>40303</td>\n",
       "      <td>350328.677215</td>\n",
       "    </tr>\n",
       "    <tr>\n",
       "      <th>3</th>\n",
       "      <td>109506</td>\n",
       "      <td>313725.261537</td>\n",
       "    </tr>\n",
       "    <tr>\n",
       "      <th>4</th>\n",
       "      <td>100149</td>\n",
       "      <td>427615.851235</td>\n",
       "    </tr>\n",
       "    <tr>\n",
       "      <th>...</th>\n",
       "      <td>...</td>\n",
       "      <td>...</td>\n",
       "    </tr>\n",
       "    <tr>\n",
       "      <th>16732</th>\n",
       "      <td>23347</td>\n",
       "      <td>349692.298915</td>\n",
       "    </tr>\n",
       "    <tr>\n",
       "      <th>16733</th>\n",
       "      <td>54003</td>\n",
       "      <td>506398.780605</td>\n",
       "    </tr>\n",
       "    <tr>\n",
       "      <th>16734</th>\n",
       "      <td>128921</td>\n",
       "      <td>387637.780837</td>\n",
       "    </tr>\n",
       "    <tr>\n",
       "      <th>16735</th>\n",
       "      <td>69352</td>\n",
       "      <td>520046.990118</td>\n",
       "    </tr>\n",
       "    <tr>\n",
       "      <th>16736</th>\n",
       "      <td>146210</td>\n",
       "      <td>379266.508222</td>\n",
       "    </tr>\n",
       "  </tbody>\n",
       "</table>\n",
       "<p>16737 rows × 2 columns</p>\n",
       "</div>"
      ],
      "text/plain": [
       "           id      Predicted\n",
       "0      114982  367509.876161\n",
       "1       95653  499175.537400\n",
       "2       40303  350328.677215\n",
       "3      109506  313725.261537\n",
       "4      100149  427615.851235\n",
       "...       ...            ...\n",
       "16732   23347  349692.298915\n",
       "16733   54003  506398.780605\n",
       "16734  128921  387637.780837\n",
       "16735   69352  520046.990118\n",
       "16736  146210  379266.508222\n",
       "\n",
       "[16737 rows x 2 columns]"
      ]
     },
     "execution_count": 16,
     "metadata": {},
     "output_type": "execute_result"
    }
   ],
   "source": [
    "# Renaming the id column\n",
    "result.rename(columns = {'id': 'Id'})\n",
    "# Adding the prediction from test data alongside the id\n",
    "result['Predicted'] = y_test_preds_final\n",
    "result"
   ]
  },
  {
   "cell_type": "code",
   "execution_count": 17,
   "id": "d639e4a6-bbfd-47e7-962e-ac85bb8b1e92",
   "metadata": {},
   "outputs": [],
   "source": [
    "# Final upload as csv\n",
    "result.to_csv('../data/06_final_result.csv', index = False)"
   ]
  },
  {
   "cell_type": "markdown",
   "id": "0a62ebb0-7ed2-4f9a-a142-32ec7a37c8b7",
   "metadata": {},
   "source": [
    "## Step 4. Upload to Kaggle"
   ]
  },
  {
   "cell_type": "markdown",
   "id": "1c1c4222-07c8-43d9-a6b8-2811c7a26f70",
   "metadata": {},
   "source": [
    "Here is the screenshot:"
   ]
  },
  {
   "cell_type": "markdown",
   "id": "4f306db1-3645-4ff6-a4f0-beb4993a30a6",
   "metadata": {},
   "source": [
    "![](../images/kaggle_score.png)"
   ]
  },
  {
   "cell_type": "code",
   "execution_count": null,
   "id": "ee26adc3-289f-4e86-8741-7a6ba3db553d",
   "metadata": {},
   "outputs": [],
   "source": []
  }
 ],
 "metadata": {
  "kernelspec": {
   "display_name": "Python 3 (ipykernel)",
   "language": "python",
   "name": "python3"
  },
  "language_info": {
   "codemirror_mode": {
    "name": "ipython",
    "version": 3
   },
   "file_extension": ".py",
   "mimetype": "text/x-python",
   "name": "python",
   "nbconvert_exporter": "python",
   "pygments_lexer": "ipython3",
   "version": "3.8.17"
  }
 },
 "nbformat": 4,
 "nbformat_minor": 5
}
